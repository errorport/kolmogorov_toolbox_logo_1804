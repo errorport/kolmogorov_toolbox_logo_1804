{
 "cells": [
  {
   "cell_type": "markdown",
   "metadata": {},
   "source": [
    "#### Logo BG 0418 variations\n",
    "\n",
    "First"
   ]
  },
  {
   "cell_type": "code",
   "execution_count": 1,
   "metadata": {},
   "outputs": [],
   "source": [
    "import matplotlib.pyplot as plt\n",
    "import matplotlib.image as image\n",
    "from numpy.random import random_integers as rand\n",
    "import numpy as np"
   ]
  },
  {
   "cell_type": "code",
   "execution_count": 2,
   "metadata": {},
   "outputs": [],
   "source": [
    "'''\n",
    "Image saver. Put any matrix in, and it will be saved as a PNG image.\n",
    "It looks exactly the same as if it's plotted.\n",
    "Do not put a default filename in!\n",
    "'''\n",
    "def savePattern(filename_, imgmatrix_, dpi_=100, cmap_=plt.cm.inferno):\n",
    "    im = image\n",
    "    image.imsave(fname=filename_, arr=imgmatrix_, dpi=dpi_, cmap=cmap_)\n",
    "    \n",
    "\n"
   ]
  },
  {
   "cell_type": "code",
   "execution_count": 198,
   "metadata": {},
   "outputs": [],
   "source": [
    "class Blend:\n",
    "    \n",
    "    def __init__(self):\n",
    "        self.background = 0\n",
    "        self.pattern = 0\n",
    "        self.pattern_alpha = 0\n",
    "\n",
    "    def blend(self, inputName, patternName, outputName):\n",
    "        self.background = image.imread(inputName)\n",
    "        self.pattern = image.imread(patternName)\n",
    "        self.pattern_alpha = np.empty([len(pattern), len(pattern[0]), 4])\n",
    "        \n",
    "        for i in range(0, len(self.pattern)):\n",
    "            for j in range(0, len(self.pattern[i])):\n",
    "                pixel = self.pattern[i][j]\n",
    "                self.pattern_alpha[i][j] = [1, 1, 1, 1 - pixel[0]]\n",
    "        \n",
    "        self.centerX = len(self.background)//2 - len(self.pattern_alpha)//2\n",
    "        self.centerX = len(self.background[0])//2 - len(self.pattern_alpha[0])//2\n",
    "        \n",
    "        self.endX = self.centerX + len(pattern_alpha)\n",
    "        self.endY = self.centerY + len(pattern_alpha)\n",
    "        \n",
    "        result = np.empty([len(self.background), len(self.background[0]), 3])\n",
    "\n",
    "        for i in range(0, len(self.background)):\n",
    "            for j in range(0, len(self.background[0])):\n",
    "                if self.centerX <= i < self.endX and self.centerY <= j < self.endY:\n",
    "                    aX = i - self.centerX\n",
    "                    aY = j - self.centerY\n",
    "                    aPixel = self.pattern_alpha[aX][aY]\n",
    "                    if aPixel[3] > 0:\n",
    "                        result[i][j] = [1, 1, 1]\n",
    "                    else:\n",
    "                        pixel = self.background[i][j]\n",
    "                        result[i][j] = [pixel[0], pixel[1], pixel[2]]\n",
    "                else:\n",
    "                    pixel = self.background[i][j]\n",
    "                    result[i][j] = [pixel[0], pixel[1], pixel[2]]\n",
    "\n",
    "        image.imsave(outputName, result)\n",
    "        \n",
    "class Blend2:\n",
    "    \n",
    "    #def __init__(self):\n",
    "        \n",
    "    \n",
    "    def blend(self, inputMatrix, backgroundFileName, outputFileName):\n",
    "        background = image.imread(backgroundFileName)\n",
    "        #image.imsave(fname=filename_, arr=imgmatrix_, dpi=dpi_, cmap=cmap_)\n",
    "        image.imsave(\\\n",
    "                     fname=outputFileName,\\\n",
    "                     arr=self.merge_matrices(\\\n",
    "                                             inputMatrix,\\\n",
    "                                             background,\\\n",
    "                                             x=150,\\\n",
    "                                             y=background.shape[1]//2-inputMatrix.shape[1]//2\n",
    "                                            ))\n",
    "        \n",
    "        \n",
    "    def merge_matrices(self, inputMatrix, backgroundMatrix, x=0, y=0):\n",
    "        print(x)\n",
    "        sx = inputMatrix.shape[0]\n",
    "        sy = inputMatrix.shape[1]\n",
    "        for ix in range(0,sx):\n",
    "            for iy in range(0,sy):\n",
    "                if inputMatrix[ix,iy]==1000:\n",
    "                    #1a1a1a if 1000\n",
    "                    backgroundMatrix[ix+x,iy+y] = [26/256,26/256,26/256,1]\n",
    "                if inputMatrix[ix,iy]==2000:\n",
    "                    #ffffff if 2000\n",
    "                    backgroundMatrix[ix+x,iy+y] = [1.,1.,1.,1.] #ffffff\n",
    "        return backgroundMatrix"
   ]
  },
  {
   "cell_type": "code",
   "execution_count": 190,
   "metadata": {},
   "outputs": [],
   "source": [
    "'''\n",
    "Element is just a position handling class.\n",
    "    - setPosition() sets the position directly\n",
    "    - move() adds the given matrix or coordinates\n",
    "'''\n",
    "class Element(object):\n",
    "    position=np.matrix([0,0])\n",
    "    def __init__(self, x_=0, y_=0):\n",
    "        self.position=np.matrix([x_,y_])\n",
    "        self.setPosition(x_, y_)\n",
    "        \n",
    "    def __del__(self):\n",
    "        del self\n",
    "        \n",
    "    def setPosition(self, x_=0, y_=0):\n",
    "        self.position=np.matrix([x_,y_])\n",
    "        \n",
    "    def move(self, x_, y_):\n",
    "        self.position+=np.matrix([x_, y_])\n",
    "        \n",
    "    def move(self, operand):\n",
    "        self.position+=operand"
   ]
  },
  {
   "cell_type": "code",
   "execution_count": 191,
   "metadata": {},
   "outputs": [],
   "source": [
    "class Node(Element):\n",
    "    #position is for the node's position in the final image\n",
    "    position = np.matrix([0,0])\n",
    "    #token is a set of available branches that a node can put (obvi: in our case it can't be more than 3)\n",
    "    token=2\n",
    "    #freePoints are for listing the checked positions where the node can put another node (branch)\n",
    "    freePoints=[]\n",
    "    #you can specify a bias that can modify the shape of the tree\n",
    "    #bias[up,right,down,left]\n",
    "    bias=[]\n",
    "    \n",
    "    def __init__(self, position_=0, bias_=[100,2,1,2]):\n",
    "        self.position = position_\n",
    "        self.bias=bias_\n",
    "        self.token=2\n",
    "        \n",
    "    '''\n",
    "    Check if got any places around in orthogonal edges of nodeArea.\n",
    "    nodeArea is a StartingNest.nodeArea * StartingNest.nodeArea shaped matrix around the node.\n",
    "    '''\n",
    "    def checkNeighbour(self, nodeArea=0):\n",
    "        #get the center point\n",
    "        centerX = nodeArea.shape[0]//2\n",
    "        centerY = nodeArea.shape[1]//2\n",
    "        #check the free points\n",
    "        #collect them into self.freePoints array\n",
    "        #flushing the freePoints list\n",
    "        self.freePoints=[]\n",
    "        #checking the upper section\n",
    "        #print(\"------------------------\")\n",
    "        #print(\"area:\")\n",
    "        #print(nodeArea)\n",
    "        \n",
    "        #checking the top section\n",
    "        if np.count_nonzero(nodeArea[0:centerX, centerY])==0:\n",
    "            #print(\"up ok\")\n",
    "            freePoint = [0, centerY]\n",
    "            self.freePoints.append('u')\n",
    "        #print(\"found branch values on up: \", np.count_nonzero(nodeArea[0:centerX, centerY]))\n",
    "        \n",
    "        #checking the right section\n",
    "        if np.count_nonzero(nodeArea[centerX, (centerY+1):nodeArea.shape[1]])==0:\n",
    "            #print(\"right ok\")\n",
    "            freePoint = [centerX, nodeArea.shape[1]]\n",
    "            self.freePoints.append('r')\n",
    "        #print(\"found branch values on right: \", np.count_nonzero(nodeArea[centerX, (centerY+1):nodeArea.shape[1]]))\n",
    "        \n",
    "        #checking the bottom section\n",
    "        if np.count_nonzero(nodeArea[(centerX+1):nodeArea.shape[0], centerY])==0:\n",
    "            #print(\"bottom ok\")\n",
    "            freePoint = [nodeArea.shape[0], centerY]\n",
    "            self.freePoints.append('d')\n",
    "        #print(\"found branch values on bottom: \", np.count_nonzero(nodeArea[(centerX+1):nodeArea.shape[0], centerY]))\n",
    "        \n",
    "        #checking the LEFT WING <plays proud russian hardtechno>\n",
    "        if np.count_nonzero(nodeArea[centerX, 0:centerY])==0:\n",
    "            #print(\"left ok\")\n",
    "            freePoint = [centerX, 0]\n",
    "            self.freePoints.append('l')\n",
    "        #print(\"found branch values on left: \", np.count_nonzero(nodeArea[centerX, 0:centerY]))\n",
    "        return len(self.freePoints)\n",
    "        \n",
    "    def putNode(self, nodeArea, nest):\n",
    "        #choose a freePoint from self.freePoints\n",
    "        \n",
    "        #newNodePosition=self.doArbitratedBranch(nodeArea, nest)\n",
    "        newNodePosition=self.doArbitratedBranch(nodeArea, nest)\n",
    "\n",
    "        #put a node and draw the line\n",
    "        #print(\"actual position:\", self.position)\n",
    "        #print(\"chosen position:\", newNodePosition)\n",
    "        self.drawBranch(newNodePosition, nest)\n",
    "        nest.addNode(newNodePosition)\n",
    "        return 0\n",
    "    \n",
    "    def doArbitratedBranch(self, nodeArea, nest):\n",
    "        newNodePosition=[]\n",
    "        match=0\n",
    "        while match==0:\n",
    "            direction = self.getFreePointByBias()\n",
    "            if direction == 0 and np.count_nonzero(np.isin(self.freePoints, 'u')):\n",
    "                newNodePosition=[self.position[0,0]-(nodeArea.shape[0]//2),self.position[0,1]]\n",
    "                match=1\n",
    "\n",
    "            if direction == 1 and np.count_nonzero(np.isin(self.freePoints, 'r')):\n",
    "                newNodePosition=[self.position[0,0],self.position[0,1]+(nodeArea.shape[1]//2)]\n",
    "                match=1\n",
    "\n",
    "            if direction == 2 and np.count_nonzero(np.isin(self.freePoints, 'd')):\n",
    "                newNodePosition=[self.position[0,0]+(nodeArea.shape[0]//2),self.position[0,1]]\n",
    "                match=1\n",
    "\n",
    "            if direction == 3 and np.count_nonzero(np.isin(self.freePoints, 'l')):\n",
    "                newNodePosition=[self.position[0,0],self.position[0,1]-(nodeArea.shape[1]//2)]\n",
    "                match=1\n",
    "        return newNodePosition\n",
    "    \n",
    "    def doUnArbitratedBranch(self, nodeArea, nest):\n",
    "        newNodePosition=[]\n",
    "        direction = self.getFreePointByBias()\n",
    "        if direction == 0 and np.count_nonzero(np.isin(self.freePoints, 'u')):\n",
    "            newNodePosition=[self.position[0,0]-(nodeArea.shape[0]//2),self.position[0,1]]\n",
    "\n",
    "        if direction == 1 and np.count_nonzero(np.isin(self.freePoints, 'r')):\n",
    "            newNodePosition=[self.position[0,0],self.position[0,1]+(nodeArea.shape[1]//2)]\n",
    "\n",
    "        if direction == 2 and np.count_nonzero(np.isin(self.freePoints, 'd')):\n",
    "            newNodePosition=[self.position[0,0]+(nodeArea.shape[0]//2),self.position[0,1]]\n",
    "\n",
    "        if direction == 3 and np.count_nonzero(np.isin(self.freePoints, 'l')):\n",
    "            newNodePosition=[self.position[0,0],self.position[0,1]-(nodeArea.shape[1]//2)]\n",
    "        return newNodePosition\n",
    "    \n",
    "    def drawBranch(self, newPosition, nest):\n",
    "        if len(newPosition)>0:\n",
    "            if newPosition[0]>self.position[0,0]:\n",
    "                lowerX=self.position[0,0]\n",
    "                higherX=newPosition[0]\n",
    "            else:\n",
    "                lowerX=newPosition[0]\n",
    "                higherX=self.position[0,0]\n",
    "            if newPosition[0]==self.position[0,0]:\n",
    "                lowerX=newPosition[0]\n",
    "                higherX=self.position[0,0]+1\n",
    "\n",
    "            if newPosition[1]>self.position[0,1]:\n",
    "                lowerY=self.position[0,1]\n",
    "                higherY=newPosition[1]\n",
    "            else:\n",
    "                lowerY=newPosition[1]\n",
    "                higherY=self.position[0,1]\n",
    "            if newPosition[1]==self.position[0,1]:\n",
    "                lowerY=newPosition[1]\n",
    "                higherY=self.position[0,1]+1\n",
    "\n",
    "            if newPosition[0]<nest.area.shape[0] and newPosition[1]<nest.area.shape[1]:\n",
    "                nest.area[newPosition[0], newPosition[1]] = 1000# nest.iterations+100\n",
    "                nest.area[lowerX:higherX, lowerY:higherY] = 1000# nest.iterations+100\n",
    "        \n",
    "        return 0\n",
    "    \n",
    "    def getFreePointByBias(self):\n",
    "        direction=[]\n",
    "        #to up\n",
    "        direction.append(np.random.rand(1)*self.bias[0])\n",
    "        #to right\n",
    "        direction.append(np.random.rand(1)*self.bias[1])\n",
    "        #to down\n",
    "        direction.append(np.random.rand(1)*self.bias[2])\n",
    "        #to the dreamland\n",
    "        direction.append(np.random.rand(1)*self.bias[3])\n",
    "        return np.argmax(direction)\n",
    "        \n",
    "    def step(self, nodeArea, nest):\n",
    "        if self.position[0,0]>nest.nodeArea and self.position[0,0]<nest.area.shape[0]-nest.nodeArea\\\n",
    "            and self.position[0,1]>nest.nodeArea and self.position[0,1]<nest.area.shape[1]-nest.nodeArea :\n",
    "            freePoints = self.checkNeighbour(nodeArea)\n",
    "            if self.token>0 and freePoints>0:\n",
    "                self.token-=1\n",
    "                self.putNode(nodeArea, nest)\n",
    "        else:\n",
    "            nest.area[self.position[0,0],self.position[0,1]]=2000\n",
    "            self.token=0\n",
    "            "
   ]
  },
  {
   "cell_type": "code",
   "execution_count": 192,
   "metadata": {},
   "outputs": [],
   "source": [
    "'''\n",
    "StartingNest is a class for start several StartingNode-s.\n",
    "    - startingPositionMatrix : where the first nodes are\n",
    "    - nodeArea : checked area on any node steps. it puts a new node on the edge of it.\n",
    "                 it has to be an odd number!\n",
    "    - \n",
    "'''\n",
    "\n",
    "class StartingNest(Element, object):\n",
    "    startingPositionMatrix=np.matrix([[0,1,0],[1,0,1],[0,1,0]])\n",
    "    nodeArea=5\n",
    "    nodes=[]\n",
    "    iterations=10\n",
    "    initial_iteration=0\n",
    "    area=np.zeros([1,1])\n",
    "    T0 = 0\n",
    "    Td = 1\n",
    "    \n",
    "    def __init__(self, startingPositionMatrix_, nodeArea_=5, areaX_=100, areaY_=100, iterations=10, T0=1, Td=1):\n",
    "        self.T0 = T0\n",
    "        self.Td = Td\n",
    "        self.startingPositionMatrix=startingPositionMatrix_\n",
    "        self.nodeArea=nodeArea_\n",
    "        nodes=[]\n",
    "        self.area=np.zeros([areaX_, areaY_])\n",
    "        self.iterations=iterations\n",
    "        self.initial_iterations=iterations\n",
    "        print(\"Created.\")\n",
    "        \n",
    "    def __del__(self):\n",
    "        print(\"Deleted.\")        \n",
    "    \n",
    "    def setInitialNodes(self):\n",
    "        self.nodes=[]\n",
    "        centerX = self.area.shape[0]//2 - self.startingPositionMatrix.shape[0]//2\n",
    "        centerY = self.area.shape[1]//2 - self.startingPositionMatrix.shape[1]//2\n",
    "        self.area=self.mergeMatrices(imageMatrix=self.area, drawMatrix=self.startingPositionMatrix, x=centerX, y=centerY)\n",
    "        plt.imshow(self.area, cmap=plt.cm.binary, interpolation='nearest')\n",
    "        plt.show()\n",
    "        \n",
    "    def addNode(self, position, token=2):\n",
    "        if len(position)>0:\n",
    "            nodeToAdd=Node(np.matrix([position[0], position[1]]))\n",
    "            #token = calculate_token_probability()>1 ? random.randint(2,4) : 1 \n",
    "            #print(self.calculate_token_probability())\n",
    "            if self.calculate_token_probability()>1:\n",
    "                token = 2\n",
    "            elif self.calculate_token_probability()>10:\n",
    "                token = 3\n",
    "            else:\n",
    "                token = 1\n",
    "            nodeToAdd.token=token\n",
    "            self.nodes.append(nodeToAdd)\n",
    "        \n",
    "    '''\n",
    "    Merge matrices. You can give an offset.\n",
    "    returns: modified imageMatrix, nodePositions\n",
    "    '''    \n",
    "    def mergeMatrices(self, imageMatrix=0, drawMatrix=0, x=0, y=0):\n",
    "        sx = drawMatrix.shape[0]\n",
    "        sy = drawMatrix.shape[1]\n",
    "        #nodePositions=[]\n",
    "        for ix in range(0,sx):\n",
    "            for iy in range(0,sy):\n",
    "                imageMatrix[ix+x,iy+y] = drawMatrix[ix,iy]\n",
    "                if imageMatrix[ix+x,iy+y] > 0:\n",
    "                    self.addNode(position=[ix+x, iy+y], token=1)\n",
    "                    #nodeToAdd=Node(np.matrix([ix+x, iy+y]))\n",
    "                    #self.nodes.append(nodeToAdd)\n",
    "        return imageMatrix\n",
    "    \n",
    "    def getArea(self, x_=0, y_=0):\n",
    "        area = np.zeros([self.nodeArea, self.nodeArea])\n",
    "        xPos=x_-self.nodeArea//2\n",
    "        yPos=y_-self.nodeArea//2\n",
    "        area = self.area[xPos:xPos+self.nodeArea, yPos:yPos+self.nodeArea]\n",
    "        #plt.imshow(area, cmap=plt.cm.binary, interpolation='nearest')\n",
    "        #plt.show()\n",
    "        return area\n",
    "    \n",
    "    def saveForGif(self, filename, img, dpi=120, cmap=plt.cm.binary, scaling_=1):\n",
    "        scaling = scaling_\n",
    "        Z=np.kron(img, np.ones((scaling, scaling)))\n",
    "        savePattern(filename_=filename, imgmatrix_=Z, dpi_=dpi, cmap_=cmap)\n",
    "        \n",
    "    def calculate_token_probability(self):\n",
    "        x = self.initial_iterations - self.iterations\n",
    "        if x > 0:\n",
    "            Tp = (x**2)/((x**self.T0)*self.Td)\n",
    "        else:\n",
    "            Tp = 0\n",
    "        return Tp\n",
    "    \n",
    "    def highlight_endpoints(self):\n",
    "        for i in range(len(self.nodes)):\n",
    "            if self.nodes[i].token == 2:\n",
    "                self.area[self.nodes[i].position[0,0],self.nodes[i].position[0,1]] = 2000\n",
    "    \n",
    "    def run(self, branching_probability=.5):\n",
    "        self.setInitialNodes()\n",
    "        image_index=0\n",
    "        \n",
    "        while self.iterations>0:\n",
    "            for i in range(0,len(self.nodes)):\n",
    "                nodeArea=self.getArea(self.nodes[i].position[0,0], self.nodes[i].position[0,1])\n",
    "                if np.random.rand(1) > branching_probability:\n",
    "                    self.nodes[i].step(nodeArea, self)\n",
    "            self.iterations-=1\n",
    "            self.saveForGif(filename=\"test_viridis_gif_\"+str(\"%03d\" % image_index)+\".png\", img=self.area, dpi=300, cmap=plt.cm.inferno, scaling_=8)\n",
    "            image_index+=1\n",
    "        self.highlight_endpoints()\n",
    "        "
   ]
  },
  {
   "cell_type": "code",
   "execution_count": 175,
   "metadata": {
    "scrolled": false
   },
   "outputs": [
    {
     "name": "stdout",
     "output_type": "stream",
     "text": [
      "Created.\n",
      "Deleted.\n"
     ]
    },
    {
     "data": {
      "image/png": "[encoded data removed]",
      "text/plain": [
       "<matplotlib.figure.Figure at 0x7f9377dc79e8>"
      ]
     },
     "metadata": {},
     "output_type": "display_data"
    },
    {
     "data": {
      "image/png": "[encoded data removed]",
      "text/plain": [
       "<matplotlib.figure.Figure at 0x7f9377dc7d30>"
      ]
     },
     "metadata": {},
     "output_type": "display_data"
    }
   ],
   "source": [
    "testNest = StartingNest(startingPositionMatrix_=np.matrix([[0,0,0,0,0,0,0,0,0,2000,0,0,0,0,0,0,0,0,0]]), nodeArea_=7, iterations=67, areaX_=251, areaY_=101, T0=.6, Td=150)\n",
    "testNest.move(np.array([100,0]))\n",
    "testNest.run(.5)\n",
    "plt.figure(figsize = (20,20))\n",
    "plt.imshow(testNest.area, cmap=plt.cm.binary, interpolation='nearest', aspect='equal')\n",
    "plt.show()"
   ]
  },
  {
   "cell_type": "code",
   "execution_count": 199,
   "metadata": {
    "scrolled": false
   },
   "outputs": [
    {
     "name": "stdout",
     "output_type": "stream",
     "text": [
      "Created.\n"
     ]
    },
    {
     "data": {
      "image/png": "[encoded data removed]",
      "text/plain": [
       "<matplotlib.figure.Figure at 0x7f9377d2ba58>"
      ]
     },
     "metadata": {},
     "output_type": "display_data"
    },
    {
     "name": "stdout",
     "output_type": "stream",
     "text": [
      "150\n",
      "Ready: 000\n",
      "Created.\n",
      "Deleted.\n"
     ]
    },
    {
     "data": {
      "image/png": "[encoded data removed]",
      "text/plain": [
       "<matplotlib.figure.Figure at 0x7f9377e53390>"
      ]
     },
     "metadata": {},
     "output_type": "display_data"
    },
    {
     "name": "stdout",
     "output_type": "stream",
     "text": [
      "150\n",
      "Ready: 001\n",
      "Created.\n",
      "Deleted.\n"
     ]
    },
    {
     "data": {
      "image/png": "[encoded data removed]",
      "text/plain": [
       "<matplotlib.figure.Figure at 0x7f9377cb4eb8>"
      ]
     },
     "metadata": {},
     "output_type": "display_data"
    },
    {
     "name": "stdout",
     "output_type": "stream",
     "text": [
      "Deleted.\n",
      "150\n",
      "Ready: 002\n",
      "Created.\n",
      "Deleted.\n"
     ]
    },
    {
     "data": {
      "image/png": "[encoded data removed]",
      "text/plain": [
       "<matplotlib.figure.Figure at 0x7f9377b51550>"
      ]
     },
     "metadata": {},
     "output_type": "display_data"
    },
    {
     "name": "stdout",
     "output_type": "stream",
     "text": [
      "150\n",
      "Ready: 003\n",
      "Created.\n",
      "Deleted.\n"
     ]
    },
    {
     "data": {
      "image/png": "[encoded data removed]",
      "text/plain": [
       "<matplotlib.figure.Figure at 0x7f937792bb00>"
      ]
     },
     "metadata": {},
     "output_type": "display_data"
    },
    {
     "name": "stdout",
     "output_type": "stream",
     "text": [
      "150\n",
      "Ready: 004\n",
      "Created.\n",
      "Deleted.\n"
     ]
    },
    {
     "data": {
      "image/png": "[encoded data removed]",
      "text/plain": [
       "<matplotlib.figure.Figure at 0x7f9377cc49e8>"
      ]
     },
     "metadata": {},
     "output_type": "display_data"
    },
    {
     "name": "stdout",
     "output_type": "stream",
     "text": [
      "150\n",
      "Ready: 005\n",
      "Created.\n",
      "Deleted.\n"
     ]
    },
    {
     "data": {
      "image/png": "[encoded data removed]",
      "text/plain": [
       "<matplotlib.figure.Figure at 0x7f93779a4f28>"
      ]
     },
     "metadata": {},
     "output_type": "display_data"
    },
    {
     "name": "stdout",
     "output_type": "stream",
     "text": [
      "150\n",
      "Ready: 006\n",
      "Created.\n",
      "Deleted.\n"
     ]
    },
    {
     "data": {
      "image/png": "[encoded data removed]",
      "text/plain": [
       "<matplotlib.figure.Figure at 0x7f9377d57358>"
      ]
     },
     "metadata": {},
     "output_type": "display_data"
    },
    {
     "name": "stdout",
     "output_type": "stream",
     "text": [
      "150\n",
      "Ready: 007\n",
      "Created.\n",
      "Deleted.\n"
     ]
    },
    {
     "data": {
      "image/png": "[encoded data removed]",
      "text/plain": [
       "<matplotlib.figure.Figure at 0x7f9377d0b0b8>"
      ]
     },
     "metadata": {},
     "output_type": "display_data"
    },
    {
     "name": "stdout",
     "output_type": "stream",
     "text": [
      "150\n",
      "Ready: 008\n",
      "Created.\n",
      "Deleted.\n"
     ]
    },
    {
     "data": {
      "image/png": "[encoded data removed]",
      "text/plain": [
       "<matplotlib.figure.Figure at 0x7f9377ce4470>"
      ]
     },
     "metadata": {},
     "output_type": "display_data"
    },
    {
     "name": "stdout",
     "output_type": "stream",
     "text": [
      "150\n",
      "Ready: 009\n",
      "Created.\n",
      "Deleted.\n"
     ]
    },
    {
     "data": {
      "image/png": "[encoded data removed]",
      "text/plain": [
       "<matplotlib.figure.Figure at 0x7f9377b989b0>"
      ]
     },
     "metadata": {},
     "output_type": "display_data"
    },
    {
     "name": "stdout",
     "output_type": "stream",
     "text": [
      "150\n",
      "Ready: 010\n",
      "Created.\n",
      "Deleted.\n"
     ]
    },
    {
     "data": {
      "image/png": "[encoded data removed]",
      "text/plain": [
       "<matplotlib.figure.Figure at 0x7f9377d629b0>"
      ]
     },
     "metadata": {},
     "output_type": "display_data"
    },
    {
     "name": "stdout",
     "output_type": "stream",
     "text": [
      "150\n",
      "Ready: 011\n",
      "Created.\n",
      "Deleted.\n"
     ]
    },
    {
     "data": {
      "image/png": "[encoded data removed]",
      "text/plain": [
       "<matplotlib.figure.Figure at 0x7f9377dbd6a0>"
      ]
     },
     "metadata": {},
     "output_type": "display_data"
    },
    {
     "name": "stdout",
     "output_type": "stream",
     "text": [
      "150\n",
      "Ready: 012\n",
      "Created.\n",
      "Deleted.\n"
     ]
    },
    {
     "data": {
      "image/png": "[encoded data removed]",
      "text/plain": [
       "<matplotlib.figure.Figure at 0x7f9377bff4e0>"
      ]
     },
     "metadata": {},
     "output_type": "display_data"
    },
    {
     "name": "stdout",
     "output_type": "stream",
     "text": [
      "150\n",
      "Ready: 013\n",
      "Created.\n",
      "Deleted.\n"
     ]
    },
    {
     "data": {
      "image/png": "[encoded data removed]",
      "text/plain": [
       "<matplotlib.figure.Figure at 0x7f9377c71e80>"
      ]
     },
     "metadata": {},
     "output_type": "display_data"
    },
    {
     "name": "stdout",
     "output_type": "stream",
     "text": [
      "150\n",
      "Ready: 014\n",
      "Created.\n",
      "Deleted.\n"
     ]
    },
    {
     "data": {
      "image/png": "[encoded data removed]",
      "text/plain": [
       "<matplotlib.figure.Figure at 0x7f9377c62a90>"
      ]
     },
     "metadata": {},
     "output_type": "display_data"
    },
    {
     "name": "stdout",
     "output_type": "stream",
     "text": [
      "150\n",
      "Ready: 015\n",
      "Created.\n",
      "Deleted.\n"
     ]
    },
    {
     "data": {
      "image/png": "[encoded data removed]",
      "text/plain": [
       "<matplotlib.figure.Figure at 0x7f9377c755c0>"
      ]
     },
     "metadata": {},
     "output_type": "display_data"
    },
    {
     "name": "stdout",
     "output_type": "stream",
     "text": [
      "150\n",
      "Ready: 016\n",
      "Created.\n",
      "Deleted.\n"
     ]
    },
    {
     "data": {
      "image/png": "[encoded data removed]",
      "text/plain": [
       "<matplotlib.figure.Figure at 0x7f9377cb2278>"
      ]
     },
     "metadata": {},
     "output_type": "display_data"
    },
    {
     "name": "stdout",
     "output_type": "stream",
     "text": [
      "150\n",
      "Ready: 017\n",
      "Created.\n",
      "Deleted.\n"
     ]
    },
    {
     "data": {
      "image/png": "[encoded data removed]",
      "text/plain": [
       "<matplotlib.figure.Figure at 0x7f93779020b8>"
      ]
     },
     "metadata": {},
     "output_type": "display_data"
    },
    {
     "name": "stdout",
     "output_type": "stream",
     "text": [
      "150\n",
      "Ready: 018\n",
      "Created.\n",
      "Deleted.\n"
     ]
    },
    {
     "data": {
      "image/png": "[encoded data removed]",
      "text/plain": [
       "<matplotlib.figure.Figure at 0x7f9377b48358>"
      ]
     },
     "metadata": {},
     "output_type": "display_data"
    },
    {
     "name": "stdout",
     "output_type": "stream",
     "text": [
      "150\n",
      "Ready: 019\n",
      "Created.\n",
      "Deleted.\n"
     ]
    },
    {
     "data": {
      "image/png": "[encoded data removed]",
      "text/plain": [
       "<matplotlib.figure.Figure at 0x7f9377a904e0>"
      ]
     },
     "metadata": {},
     "output_type": "display_data"
    },
    {
     "name": "stdout",
     "output_type": "stream",
     "text": [
      "150\n",
      "Ready: 020\n",
      "Created.\n",
      "Deleted.\n"
     ]
    },
    {
     "data": {
      "image/png": "[encoded data removed]",
      "text/plain": [
       "<matplotlib.figure.Figure at 0x7f9377c565c0>"
      ]
     },
     "metadata": {},
     "output_type": "display_data"
    },
    {
     "name": "stdout",
     "output_type": "stream",
     "text": [
      "150\n",
      "Ready: 021\n",
      "Created.\n",
      "Deleted.\n"
     ]
    },
    {
     "data": {
      "image/png": "[encoded data removed]",
      "text/plain": [
       "<matplotlib.figure.Figure at 0x7f9377d7d3c8>"
      ]
     },
     "metadata": {},
     "output_type": "display_data"
    },
    {
     "name": "stdout",
     "output_type": "stream",
     "text": [
      "150\n",
      "Ready: 022\n",
      "Created.\n",
      "Deleted.\n"
     ]
    },
    {
     "data": {
      "image/png": "[encoded data removed]",
      "text/plain": [
       "<matplotlib.figure.Figure at 0x7f9377be32e8>"
      ]
     },
     "metadata": {},
     "output_type": "display_data"
    },
    {
     "name": "stdout",
     "output_type": "stream",
     "text": [
      "150\n",
      "Ready: 023\n",
      "Created.\n",
      "Deleted.\n"
     ]
    },
    {
     "data": {
      "image/png": "[encoded data removed]",
      "text/plain": [
       "<matplotlib.figure.Figure at 0x7f9377b63e80>"
      ]
     },
     "metadata": {},
     "output_type": "display_data"
    },
    {
     "name": "stdout",
     "output_type": "stream",
     "text": [
      "150\n",
      "Ready: 024\n",
      "Created.\n",
      "Deleted.\n"
     ]
    },
    {
     "data": {
      "image/png": "[encoded data removed]",
      "text/plain": [
       "<matplotlib.figure.Figure at 0x7f9377a8dd68>"
      ]
     },
     "metadata": {},
     "output_type": "display_data"
    },
    {
     "name": "stdout",
     "output_type": "stream",
     "text": [
      "150\n",
      "Ready: 025\n",
      "Created.\n",
      "Deleted.\n"
     ]
    },
    {
     "data": {
      "image/png": "[encoded data removed]",
      "text/plain": [
       "<matplotlib.figure.Figure at 0x7f937811f240>"
      ]
     },
     "metadata": {},
     "output_type": "display_data"
    },
    {
     "name": "stdout",
     "output_type": "stream",
     "text": [
      "150\n",
      "Ready: 026\n",
      "Created.\n",
      "Deleted.\n"
     ]
    },
    {
     "data": {
      "image/png": "[encoded data removed]",
      "text/plain": [
       "<matplotlib.figure.Figure at 0x7f9377be3dd8>"
      ]
     },
     "metadata": {},
     "output_type": "display_data"
    },
    {
     "name": "stdout",
     "output_type": "stream",
     "text": [
      "150\n",
      "Ready: 027\n",
      "Created.\n",
      "Deleted.\n"
     ]
    },
    {
     "data": {
      "image/png": "[encoded data removed]",
      "text/plain": [
       "<matplotlib.figure.Figure at 0x7f9377903c18>"
      ]
     },
     "metadata": {},
     "output_type": "display_data"
    },
    {
     "name": "stdout",
     "output_type": "stream",
     "text": [
      "150\n",
      "Ready: 028\n",
      "Created.\n",
      "Deleted.\n"
     ]
    },
    {
     "data": {
      "image/png": "[encoded data removed]",
      "text/plain": [
       "<matplotlib.figure.Figure at 0x7f9377a4fcc0>"
      ]
     },
     "metadata": {},
     "output_type": "display_data"
    },
    {
     "name": "stdout",
     "output_type": "stream",
     "text": [
      "150\n",
      "Ready: 029\n",
      "Created.\n",
      "Deleted.\n"
     ]
    },
    {
     "data": {
      "image/png": "[encoded data removed]",
      "text/plain": [
       "<matplotlib.figure.Figure at 0x7f937a8cfda0>"
      ]
     },
     "metadata": {},
     "output_type": "display_data"
    },
    {
     "name": "stdout",
     "output_type": "stream",
     "text": [
      "150\n",
      "Ready: 030\n",
      "Created.\n",
      "Deleted.\n"
     ]
    },
    {
     "data": {
      "image/png": "[encoded data removed]",
      "text/plain": [
       "<matplotlib.figure.Figure at 0x7f9377b48080>"
      ]
     },
     "metadata": {},
     "output_type": "display_data"
    },
    {
     "name": "stdout",
     "output_type": "stream",
     "text": [
      "150\n",
      "Ready: 031\n",
      "Created.\n",
      "Deleted.\n"
     ]
    },
    {
     "data": {
      "image/png": "[encoded data removed]",
      "text/plain": [
       "<matplotlib.figure.Figure at 0x7f9377b9dd68>"
      ]
     },
     "metadata": {},
     "output_type": "display_data"
    },
    {
     "name": "stdout",
     "output_type": "stream",
     "text": [
      "150\n",
      "Ready: 032\n",
      "Created.\n",
      "Deleted.\n"
     ]
    },
    {
     "data": {
      "image/png": "[encoded data removed]",
      "text/plain": [
       "<matplotlib.figure.Figure at 0x7f9377a707b8>"
      ]
     },
     "metadata": {},
     "output_type": "display_data"
    },
    {
     "name": "stdout",
     "output_type": "stream",
     "text": [
      "150\n",
      "Ready: 033\n",
      "Created.\n",
      "Deleted.\n"
     ]
    },
    {
     "data": {
      "image/png": "[encoded data removed]",
      "text/plain": [
       "<matplotlib.figure.Figure at 0x7f93a21e6a20>"
      ]
     },
     "metadata": {},
     "output_type": "display_data"
    },
    {
     "name": "stdout",
     "output_type": "stream",
     "text": [
      "150\n",
      "Ready: 034\n",
      "Created.\n",
      "Deleted.\n"
     ]
    },
    {
     "data": {
      "image/png": "[encoded data removed]",
      "text/plain": [
       "<matplotlib.figure.Figure at 0x7f9377939518>"
      ]
     },
     "metadata": {},
     "output_type": "display_data"
    },
    {
     "name": "stdout",
     "output_type": "stream",
     "text": [
      "150\n",
      "Ready: 035\n",
      "Created.\n",
      "Deleted.\n"
     ]
    },
    {
     "data": {
      "image/png": "[encoded data removed]",
      "text/plain": [
       "<matplotlib.figure.Figure at 0x7f9377c75b70>"
      ]
     },
     "metadata": {},
     "output_type": "display_data"
    },
    {
     "name": "stdout",
     "output_type": "stream",
     "text": [
      "150\n",
      "Ready: 036\n",
      "Created.\n",
      "Deleted.\n"
     ]
    },
    {
     "data": {
      "image/png": "[encoded data removed]",
      "text/plain": [
       "<matplotlib.figure.Figure at 0x7f9377ccddd8>"
      ]
     },
     "metadata": {},
     "output_type": "display_data"
    },
    {
     "name": "stdout",
     "output_type": "stream",
     "text": [
      "150\n",
      "Ready: 037\n",
      "Created.\n",
      "Deleted.\n"
     ]
    },
    {
     "data": {
      "image/png": "[encoded data removed]",
      "text/plain": [
       "<matplotlib.figure.Figure at 0x7f9377b9c080>"
      ]
     },
     "metadata": {},
     "output_type": "display_data"
    },
    {
     "name": "stdout",
     "output_type": "stream",
     "text": [
      "150\n",
      "Ready: 038\n",
      "Created.\n",
      "Deleted.\n"
     ]
    },
    {
     "data": {
      "image/png": "[encoded data removed]",
      "text/plain": [
       "<matplotlib.figure.Figure at 0x7f9377a31438>"
      ]
     },
     "metadata": {},
     "output_type": "display_data"
    },
    {
     "name": "stdout",
     "output_type": "stream",
     "text": [
      "150\n",
      "Ready: 039\n",
      "Created.\n",
      "Deleted.\n"
     ]
    },
    {
     "data": {
      "image/png": "[encoded data removed]",
      "text/plain": [
       "<matplotlib.figure.Figure at 0x7f9377cb4048>"
      ]
     },
     "metadata": {},
     "output_type": "display_data"
    },
    {
     "name": "stdout",
     "output_type": "stream",
     "text": [
      "150\n",
      "Ready: 040\n",
      "Created.\n",
      "Deleted.\n"
     ]
    },
    {
     "data": {
      "image/png": "[encoded data removed]",
      "text/plain": [
       "<matplotlib.figure.Figure at 0x7f9377d0b400>"
      ]
     },
     "metadata": {},
     "output_type": "display_data"
    },
    {
     "name": "stdout",
     "output_type": "stream",
     "text": [
      "150\n",
      "Ready: 041\n",
      "Created.\n",
      "Deleted.\n"
     ]
    },
    {
     "data": {
      "image/png": "[encoded data removed]",
      "text/plain": [
       "<matplotlib.figure.Figure at 0x7f93779a42b0>"
      ]
     },
     "metadata": {},
     "output_type": "display_data"
    },
    {
     "name": "stdout",
     "output_type": "stream",
     "text": [
      "150\n",
      "Ready: 042\n",
      "Created.\n",
      "Deleted.\n"
     ]
    },
    {
     "data": {
      "image/png": "[encoded data removed]",
      "text/plain": [
       "<matplotlib.figure.Figure at 0x7f9377d2b160>"
      ]
     },
     "metadata": {},
     "output_type": "display_data"
    },
    {
     "name": "stdout",
     "output_type": "stream",
     "text": [
      "150\n",
      "Ready: 043\n",
      "Created.\n",
      "Deleted.\n"
     ]
    },
    {
     "data": {
      "image/png": "[encoded data removed]",
      "text/plain": [
       "<matplotlib.figure.Figure at 0x7f9377c18400>"
      ]
     },
     "metadata": {},
     "output_type": "display_data"
    },
    {
     "name": "stdout",
     "output_type": "stream",
     "text": [
      "150\n",
      "Ready: 044\n",
      "Created.\n",
      "Deleted.\n"
     ]
    },
    {
     "data": {
      "image/png": "[encoded data removed]",
      "text/plain": [
       "<matplotlib.figure.Figure at 0x7f9377cfb0b8>"
      ]
     },
     "metadata": {},
     "output_type": "display_data"
    },
    {
     "name": "stdout",
     "output_type": "stream",
     "text": [
      "150\n",
      "Ready: 045\n",
      "Created.\n",
      "Deleted.\n"
     ]
    },
    {
     "data": {
      "image/png": "[encoded data removed]",
      "text/plain": [
       "<matplotlib.figure.Figure at 0x7f9377d7d860>"
      ]
     },
     "metadata": {},
     "output_type": "display_data"
    },
    {
     "name": "stdout",
     "output_type": "stream",
     "text": [
      "150\n",
      "Ready: 046\n",
      "Created.\n",
      "Deleted.\n"
     ]
    },
    {
     "data": {
      "image/png": "[encoded data removed]",
      "text/plain": [
       "<matplotlib.figure.Figure at 0x7f9377a8c588>"
      ]
     },
     "metadata": {},
     "output_type": "display_data"
    },
    {
     "name": "stdout",
     "output_type": "stream",
     "text": [
      "150\n",
      "Ready: 047\n",
      "Created.\n",
      "Deleted.\n"
     ]
    },
    {
     "data": {
      "image/png": "[encoded data removed]",
      "text/plain": [
       "<matplotlib.figure.Figure at 0x7f9377a3dc88>"
      ]
     },
     "metadata": {},
     "output_type": "display_data"
    },
    {
     "name": "stdout",
     "output_type": "stream",
     "text": [
      "150\n",
      "Ready: 048\n",
      "Created.\n",
      "Deleted.\n"
     ]
    },
    {
     "data": {
      "image/png": "[encoded data removed]",
      "text/plain": [
       "<matplotlib.figure.Figure at 0x7f9377b9d048>"
      ]
     },
     "metadata": {},
     "output_type": "display_data"
    },
    {
     "name": "stdout",
     "output_type": "stream",
     "text": [
      "150\n",
      "Ready: 049\n",
      "Created.\n",
      "Deleted.\n"
     ]
    },
    {
     "data": {
      "image/png": "[encoded data removed]",
      "text/plain": [
       "<matplotlib.figure.Figure at 0x7f9377ce46d8>"
      ]
     },
     "metadata": {},
     "output_type": "display_data"
    },
    {
     "name": "stdout",
     "output_type": "stream",
     "text": [
      "150\n",
      "Ready: 050\n",
      "Created.\n",
      "Deleted.\n"
     ]
    },
    {
     "data": {
      "image/png": "[encoded data removed]",
      "text/plain": [
       "<matplotlib.figure.Figure at 0x7f9377bcc5c0>"
      ]
     },
     "metadata": {},
     "output_type": "display_data"
    },
    {
     "name": "stdout",
     "output_type": "stream",
     "text": [
      "150\n",
      "Ready: 051\n",
      "Created.\n",
      "Deleted.\n"
     ]
    },
    {
     "data": {
      "image/png": "[encoded data removed]",
      "text/plain": [
       "<matplotlib.figure.Figure at 0x7f9377dc1e10>"
      ]
     },
     "metadata": {},
     "output_type": "display_data"
    },
    {
     "name": "stdout",
     "output_type": "stream",
     "text": [
      "150\n",
      "Ready: 052\n",
      "Created.\n",
      "Deleted.\n"
     ]
    },
    {
     "data": {
      "image/png": "[encoded data removed]",
      "text/plain": [
       "<matplotlib.figure.Figure at 0x7f9377b834e0>"
      ]
     },
     "metadata": {},
     "output_type": "display_data"
    },
    {
     "name": "stdout",
     "output_type": "stream",
     "text": [
      "150\n",
      "Ready: 053\n",
      "Created.\n",
      "Deleted.\n"
     ]
    },
    {
     "data": {
      "image/png": "[encoded data removed]",
      "text/plain": [
       "<matplotlib.figure.Figure at 0x7f9377e08dd8>"
      ]
     },
     "metadata": {},
     "output_type": "display_data"
    },
    {
     "name": "stdout",
     "output_type": "stream",
     "text": [
      "150\n",
      "Ready: 054\n",
      "Created.\n",
      "Deleted.\n"
     ]
    },
    {
     "data": {
      "image/png": "[encoded data removed]",
      "text/plain": [
       "<matplotlib.figure.Figure at 0x7f939cc13cf8>"
      ]
     },
     "metadata": {},
     "output_type": "display_data"
    },
    {
     "name": "stdout",
     "output_type": "stream",
     "text": [
      "150\n",
      "Ready: 055\n",
      "Created.\n",
      "Deleted.\n"
     ]
    },
    {
     "data": {
      "image/png": "[encoded data removed]",
      "text/plain": [
       "<matplotlib.figure.Figure at 0x7f939cc09a20>"
      ]
     },
     "metadata": {},
     "output_type": "display_data"
    },
    {
     "name": "stdout",
     "output_type": "stream",
     "text": [
      "150\n",
      "Ready: 056\n",
      "Created.\n",
      "Deleted.\n"
     ]
    },
    {
     "data": {
      "image/png": "[encoded data removed]",
      "text/plain": [
       "<matplotlib.figure.Figure at 0x7f9377d57da0>"
      ]
     },
     "metadata": {},
     "output_type": "display_data"
    },
    {
     "name": "stdout",
     "output_type": "stream",
     "text": [
      "150\n",
      "Ready: 057\n",
      "Created.\n",
      "Deleted.\n"
     ]
    },
    {
     "data": {
      "image/png": "[encoded data removed]",
      "text/plain": [
       "<matplotlib.figure.Figure at 0x7f9377c4dd30>"
      ]
     },
     "metadata": {},
     "output_type": "display_data"
    },
    {
     "name": "stdout",
     "output_type": "stream",
     "text": [
      "150\n",
      "Ready: 058\n",
      "Created.\n",
      "Deleted.\n"
     ]
    },
    {
     "data": {
      "image/png": "[encoded data removed]",
      "text/plain": [
       "<matplotlib.figure.Figure at 0x7f9377c754e0>"
      ]
     },
     "metadata": {},
     "output_type": "display_data"
    },
    {
     "name": "stdout",
     "output_type": "stream",
     "text": [
      "150\n",
      "Ready: 059\n",
      "Created.\n",
      "Deleted.\n"
     ]
    },
    {
     "data": {
      "image/png": "[encoded data removed]",
      "text/plain": [
       "<matplotlib.figure.Figure at 0x7f9377d57b00>"
      ]
     },
     "metadata": {},
     "output_type": "display_data"
    },
    {
     "name": "stdout",
     "output_type": "stream",
     "text": [
      "150\n",
      "Ready: 060\n",
      "Created.\n",
      "Deleted.\n"
     ]
    },
    {
     "data": {
      "image/png": "[encoded data removed]",
      "text/plain": [
       "<matplotlib.figure.Figure at 0x7f9377b9b400>"
      ]
     },
     "metadata": {},
     "output_type": "display_data"
    },
    {
     "name": "stdout",
     "output_type": "stream",
     "text": [
      "150\n",
      "Ready: 061\n",
      "Created.\n",
      "Deleted.\n"
     ]
    },
    {
     "data": {
      "image/png": "[encoded data removed]",
      "text/plain": [
       "<matplotlib.figure.Figure at 0x7f9377ccfd68>"
      ]
     },
     "metadata": {},
     "output_type": "display_data"
    },
    {
     "name": "stdout",
     "output_type": "stream",
     "text": [
      "150\n",
      "Ready: 062\n",
      "Created.\n",
      "Deleted.\n"
     ]
    },
    {
     "data": {
      "image/png": "[encoded data removed]",
      "text/plain": [
       "<matplotlib.figure.Figure at 0x7f9377ce7390>"
      ]
     },
     "metadata": {},
     "output_type": "display_data"
    },
    {
     "name": "stdout",
     "output_type": "stream",
     "text": [
      "150\n",
      "Ready: 063\n",
      "Created.\n",
      "Deleted.\n"
     ]
    },
    {
     "data": {
      "image/png": "[encoded data removed]",
      "text/plain": [
       "<matplotlib.figure.Figure at 0x7f939cb8a6a0>"
      ]
     },
     "metadata": {},
     "output_type": "display_data"
    },
    {
     "name": "stdout",
     "output_type": "stream",
     "text": [
      "150\n",
      "Ready: 064\n",
      "Created.\n",
      "Deleted.\n"
     ]
    },
    {
     "data": {
      "image/png": "[encoded data removed]",
      "text/plain": [
       "<matplotlib.figure.Figure at 0x7f9377cd5710>"
      ]
     },
     "metadata": {},
     "output_type": "display_data"
    },
    {
     "name": "stdout",
     "output_type": "stream",
     "text": [
      "150\n",
      "Ready: 065\n",
      "Created.\n",
      "Deleted.\n"
     ]
    },
    {
     "data": {
      "image/png": "[encoded data removed]",
      "text/plain": [
       "<matplotlib.figure.Figure at 0x7f9377c4d470>"
      ]
     },
     "metadata": {},
     "output_type": "display_data"
    },
    {
     "name": "stdout",
     "output_type": "stream",
     "text": [
      "150\n",
      "Ready: 066\n",
      "Created.\n",
      "Deleted.\n"
     ]
    },
    {
     "data": {
      "image/png": "[encoded data removed]",
      "text/plain": [
       "<matplotlib.figure.Figure at 0x7f9377bc04a8>"
      ]
     },
     "metadata": {},
     "output_type": "display_data"
    },
    {
     "name": "stdout",
     "output_type": "stream",
     "text": [
      "150\n",
      "Ready: 067\n",
      "Created.\n",
      "Deleted.\n"
     ]
    },
    {
     "data": {
      "image/png": "[encoded data removed]",
      "text/plain": [
       "<matplotlib.figure.Figure at 0x7f9398194278>"
      ]
     },
     "metadata": {},
     "output_type": "display_data"
    },
    {
     "name": "stdout",
     "output_type": "stream",
     "text": [
      "150\n",
      "Ready: 068\n",
      "Created.\n",
      "Deleted.\n"
     ]
    },
    {
     "data": {
      "image/png": "[encoded data removed]",
      "text/plain": [
       "<matplotlib.figure.Figure at 0x7f9377a97940>"
      ]
     },
     "metadata": {},
     "output_type": "display_data"
    },
    {
     "name": "stdout",
     "output_type": "stream",
     "text": [
      "150\n",
      "Ready: 069\n",
      "Created.\n",
      "Deleted.\n"
     ]
    },
    {
     "data": {
      "image/png": "[encoded data removed]",
      "text/plain": [
       "<matplotlib.figure.Figure at 0x7f9377c2e390>"
      ]
     },
     "metadata": {},
     "output_type": "display_data"
    },
    {
     "name": "stdout",
     "output_type": "stream",
     "text": [
      "150\n",
      "Ready: 070\n",
      "Created.\n",
      "Deleted.\n"
     ]
    },
    {
     "data": {
      "image/png": "[encoded data removed]",
      "text/plain": [
       "<matplotlib.figure.Figure at 0x7f9377b48b00>"
      ]
     },
     "metadata": {},
     "output_type": "display_data"
    },
    {
     "name": "stdout",
     "output_type": "stream",
     "text": [
      "150\n",
      "Ready: 071\n",
      "Created.\n",
      "Deleted.\n"
     ]
    },
    {
     "data": {
      "image/png": "[encoded data removed]",
      "text/plain": [
       "<matplotlib.figure.Figure at 0x7f9377b9dba8>"
      ]
     },
     "metadata": {},
     "output_type": "display_data"
    },
    {
     "name": "stdout",
     "output_type": "stream",
     "text": [
      "150\n",
      "Ready: 072\n",
      "Created.\n",
      "Deleted.\n"
     ]
    },
    {
     "data": {
      "image/png": "[encoded data removed]",
      "text/plain": [
       "<matplotlib.figure.Figure at 0x7f9377bcf470>"
      ]
     },
     "metadata": {},
     "output_type": "display_data"
    },
    {
     "name": "stdout",
     "output_type": "stream",
     "text": [
      "150\n",
      "Ready: 073\n",
      "Created.\n",
      "Deleted.\n"
     ]
    },
    {
     "data": {
      "image/png": "[encoded data removed]",
      "text/plain": [
       "<matplotlib.figure.Figure at 0x7f93779129e8>"
      ]
     },
     "metadata": {},
     "output_type": "display_data"
    },
    {
     "name": "stdout",
     "output_type": "stream",
     "text": [
      "150\n",
      "Ready: 074\n",
      "Created.\n",
      "Deleted.\n"
     ]
    },
    {
     "data": {
      "image/png": "[encoded data removed]",
      "text/plain": [
       "<matplotlib.figure.Figure at 0x7f9377dc17b8>"
      ]
     },
     "metadata": {},
     "output_type": "display_data"
    },
    {
     "name": "stdout",
     "output_type": "stream",
     "text": [
      "150\n",
      "Ready: 075\n",
      "Created.\n",
      "Deleted.\n"
     ]
    },
    {
     "data": {
      "image/png": "[encoded data removed]",
      "text/plain": [
       "<matplotlib.figure.Figure at 0x7f9377ccb6a0>"
      ]
     },
     "metadata": {},
     "output_type": "display_data"
    },
    {
     "name": "stdout",
     "output_type": "stream",
     "text": [
      "150\n",
      "Ready: 076\n",
      "Created.\n",
      "Deleted.\n"
     ]
    },
    {
     "data": {
      "image/png": "[encoded data removed]",
      "text/plain": [
       "<matplotlib.figure.Figure at 0x7f9377bb3be0>"
      ]
     },
     "metadata": {},
     "output_type": "display_data"
    },
    {
     "name": "stdout",
     "output_type": "stream",
     "text": [
      "150\n",
      "Ready: 077\n",
      "Created.\n",
      "Deleted.\n"
     ]
    },
    {
     "data": {
      "image/png": "[encoded data removed]",
      "text/plain": [
       "<matplotlib.figure.Figure at 0x7f9377c18668>"
      ]
     },
     "metadata": {},
     "output_type": "display_data"
    },
    {
     "name": "stdout",
     "output_type": "stream",
     "text": [
      "150\n",
      "Ready: 078\n",
      "Created.\n",
      "Deleted.\n"
     ]
    },
    {
     "data": {
      "image/png": "[encoded data removed]",
      "text/plain": [
       "<matplotlib.figure.Figure at 0x7f9377ccf6a0>"
      ]
     },
     "metadata": {},
     "output_type": "display_data"
    },
    {
     "name": "stdout",
     "output_type": "stream",
     "text": [
      "150\n",
      "Ready: 079\n",
      "Created.\n",
      "Deleted.\n"
     ]
    },
    {
     "data": {
      "image/png": "[encoded data removed]",
      "text/plain": [
       "<matplotlib.figure.Figure at 0x7f9377c51fd0>"
      ]
     },
     "metadata": {},
     "output_type": "display_data"
    },
    {
     "name": "stdout",
     "output_type": "stream",
     "text": [
      "150\n",
      "Ready: 080\n",
      "Created.\n",
      "Deleted.\n"
     ]
    },
    {
     "data": {
      "image/png": "[encoded data removed]",
      "text/plain": [
       "<matplotlib.figure.Figure at 0x7f9377c21940>"
      ]
     },
     "metadata": {},
     "output_type": "display_data"
    },
    {
     "name": "stdout",
     "output_type": "stream",
     "text": [
      "150\n",
      "Ready: 081\n",
      "Created.\n",
      "Deleted.\n"
     ]
    },
    {
     "data": {
      "image/png": "[encoded data removed]",
      "text/plain": [
       "<matplotlib.figure.Figure at 0x7f9377c21668>"
      ]
     },
     "metadata": {},
     "output_type": "display_data"
    },
    {
     "name": "stdout",
     "output_type": "stream",
     "text": [
      "150\n",
      "Ready: 082\n",
      "Created.\n",
      "Deleted.\n"
     ]
    },
    {
     "data": {
      "image/png": "[encoded data removed]",
      "text/plain": [
       "<matplotlib.figure.Figure at 0x7f9399402198>"
      ]
     },
     "metadata": {},
     "output_type": "display_data"
    },
    {
     "name": "stdout",
     "output_type": "stream",
     "text": [
      "150\n",
      "Ready: 083\n",
      "Created.\n",
      "Deleted.\n"
     ]
    },
    {
     "data": {
      "image/png": "[encoded data removed]",
      "text/plain": [
       "<matplotlib.figure.Figure at 0x7f9377e5beb8>"
      ]
     },
     "metadata": {},
     "output_type": "display_data"
    },
    {
     "name": "stdout",
     "output_type": "stream",
     "text": [
      "150\n",
      "Ready: 084\n",
      "Created.\n",
      "Deleted.\n"
     ]
    },
    {
     "data": {
      "image/png": "[encoded data removed]",
      "text/plain": [
       "<matplotlib.figure.Figure at 0x7f9377d0b208>"
      ]
     },
     "metadata": {},
     "output_type": "display_data"
    },
    {
     "name": "stdout",
     "output_type": "stream",
     "text": [
      "150\n",
      "Ready: 085\n",
      "Created.\n",
      "Deleted.\n"
     ]
    },
    {
     "data": {
      "image/png": "[encoded data removed]",
      "text/plain": [
       "<matplotlib.figure.Figure at 0x7f9377ccb630>"
      ]
     },
     "metadata": {},
     "output_type": "display_data"
    },
    {
     "name": "stdout",
     "output_type": "stream",
     "text": [
      "150\n",
      "Ready: 086\n",
      "Created.\n",
      "Deleted.\n"
     ]
    },
    {
     "data": {
      "image/png": "[encoded data removed]",
      "text/plain": [
       "<matplotlib.figure.Figure at 0x7f9377b9d080>"
      ]
     },
     "metadata": {},
     "output_type": "display_data"
    },
    {
     "name": "stdout",
     "output_type": "stream",
     "text": [
      "150\n",
      "Ready: 087\n",
      "Created.\n",
      "Deleted.\n"
     ]
    },
    {
     "data": {
      "image/png": "[encoded data removed]",
      "text/plain": [
       "<matplotlib.figure.Figure at 0x7f9377a64d68>"
      ]
     },
     "metadata": {},
     "output_type": "display_data"
    },
    {
     "name": "stdout",
     "output_type": "stream",
     "text": [
      "150\n",
      "Ready: 088\n",
      "Created.\n",
      "Deleted.\n"
     ]
    },
    {
     "data": {
      "image/png": "[encoded data removed]",
      "text/plain": [
       "<matplotlib.figure.Figure at 0x7f9377d534a8>"
      ]
     },
     "metadata": {},
     "output_type": "display_data"
    },
    {
     "name": "stdout",
     "output_type": "stream",
     "text": [
      "150\n",
      "Ready: 089\n",
      "Created.\n",
      "Deleted.\n"
     ]
    },
    {
     "data": {
      "image/png": "[encoded data removed]",
      "text/plain": [
       "<matplotlib.figure.Figure at 0x7f9377c89dd8>"
      ]
     },
     "metadata": {},
     "output_type": "display_data"
    },
    {
     "name": "stdout",
     "output_type": "stream",
     "text": [
      "150\n",
      "Ready: 090\n",
      "Created.\n",
      "Deleted.\n"
     ]
    },
    {
     "data": {
      "image/png": "[encoded data removed]",
      "text/plain": [
       "<matplotlib.figure.Figure at 0x7f9377c42e80>"
      ]
     },
     "metadata": {},
     "output_type": "display_data"
    },
    {
     "name": "stdout",
     "output_type": "stream",
     "text": [
      "150\n",
      "Ready: 091\n",
      "Created.\n",
      "Deleted.\n"
     ]
    },
    {
     "data": {
      "image/png": "[encoded data removed]",
      "text/plain": [
       "<matplotlib.figure.Figure at 0x7f9377a7cd68>"
      ]
     },
     "metadata": {},
     "output_type": "display_data"
    },
    {
     "name": "stdout",
     "output_type": "stream",
     "text": [
      "150\n",
      "Ready: 092\n",
      "Created.\n",
      "Deleted.\n"
     ]
    },
    {
     "data": {
      "image/png": "[encoded data removed]",
      "text/plain": [
       "<matplotlib.figure.Figure at 0x7f9377bea860>"
      ]
     },
     "metadata": {},
     "output_type": "display_data"
    },
    {
     "name": "stdout",
     "output_type": "stream",
     "text": [
      "150\n",
      "Ready: 093\n",
      "Created.\n",
      "Deleted.\n"
     ]
    },
    {
     "data": {
      "image/png": "[encoded data removed]",
      "text/plain": [
       "<matplotlib.figure.Figure at 0x7f9377c89e48>"
      ]
     },
     "metadata": {},
     "output_type": "display_data"
    },
    {
     "name": "stdout",
     "output_type": "stream",
     "text": [
      "150\n",
      "Ready: 094\n",
      "Created.\n",
      "Deleted.\n"
     ]
    },
    {
     "data": {
      "image/png": "[encoded data removed]",
      "text/plain": [
       "<matplotlib.figure.Figure at 0x7f93900695f8>"
      ]
     },
     "metadata": {},
     "output_type": "display_data"
    },
    {
     "name": "stdout",
     "output_type": "stream",
     "text": [
      "150\n",
      "Ready: 095\n",
      "Created.\n",
      "Deleted.\n"
     ]
    },
    {
     "data": {
      "image/png": "[encoded data removed]",
      "text/plain": [
       "<matplotlib.figure.Figure at 0x7f9377e26f28>"
      ]
     },
     "metadata": {},
     "output_type": "display_data"
    },
    {
     "name": "stdout",
     "output_type": "stream",
     "text": [
      "150\n",
      "Ready: 096\n",
      "Created.\n",
      "Deleted.\n"
     ]
    },
    {
     "data": {
      "image/png": "[encoded data removed]",
      "text/plain": [
       "<matplotlib.figure.Figure at 0x7f9377b7cf98>"
      ]
     },
     "metadata": {},
     "output_type": "display_data"
    },
    {
     "name": "stdout",
     "output_type": "stream",
     "text": [
      "150\n",
      "Ready: 097\n",
      "Created.\n",
      "Deleted.\n"
     ]
    },
    {
     "data": {
      "image/png": "[encoded data removed]",
      "text/plain": [
       "<matplotlib.figure.Figure at 0x7f9377bb3358>"
      ]
     },
     "metadata": {},
     "output_type": "display_data"
    },
    {
     "name": "stdout",
     "output_type": "stream",
     "text": [
      "150\n",
      "Ready: 098\n",
      "Created.\n",
      "Deleted.\n"
     ]
    },
    {
     "data": {
      "image/png": "[encoded data removed]",
      "text/plain": [
       "<matplotlib.figure.Figure at 0x7f939cc04860>"
      ]
     },
     "metadata": {},
     "output_type": "display_data"
    },
    {
     "name": "stdout",
     "output_type": "stream",
     "text": [
      "150\n",
      "Ready: 099\n"
     ]
    }
   ],
   "source": [
    "blendy = Blend2()\n",
    "for i in range(100):\n",
    "    nest = StartingNest(startingPositionMatrix_=np.matrix([[0,0,0,0,0,0,0,0,0,2000,0,0,0,0,0,0,0,0,0]]), nodeArea_=7, iterations=67, areaX_=251, areaY_=101, T0=.6, Td=150)\n",
    "    nest.run(.5)\n",
    "    #nest.saveForGif(filename=\"kolmogorov_logo_1804_\"+str(\"%03d\" % i)+\".png\", img=nest.area)\n",
    "    img = nest.area[:(nest.area.shape[0]//2)+1,:]\n",
    "    scaling = 5\n",
    "    img=np.kron(img, np.ones((scaling, scaling)))\n",
    "    blendy.blend(inputMatrix=img, backgroundFileName=\"logo_background.png\", outputFileName=\"exported_logo_\"+str(\"%03d\" % i)+\".png\")\n",
    "    print(\"Ready:\", str(\"%03d\" % i))"
   ]
  },
  {
   "cell_type": "code",
   "execution_count": 153,
   "metadata": {
    "scrolled": false
   },
   "outputs": [
    {
     "data": {
      "image/png": "[encoded data removed]",
      "text/plain": [
       "<matplotlib.figure.Figure at 0x7f937791a898>"
      ]
     },
     "metadata": {},
     "output_type": "display_data"
    },
    {
     "data": {
      "image/png": "[encoded data removed]",
      "text/plain": [
       "<matplotlib.figure.Figure at 0x7f937792b4a8>"
      ]
     },
     "metadata": {},
     "output_type": "display_data"
    },
    {
     "data": {
      "image/png": "[encoded data removed]",
      "text/plain": [
       "<matplotlib.figure.Figure at 0x7f939cb881d0>"
      ]
     },
     "metadata": {},
     "output_type": "display_data"
    }
   ],
   "source": [
    "plt.figure(figsize = (20,20))\n",
    "plt.imshow(1-testNest.area, cmap=plt.cm.viridis, interpolation='nearest', aspect='equal')\n",
    "plt.show()\n",
    "plt.figure(figsize = (20,20))\n",
    "plt.imshow(1-testNest.area, cmap=plt.cm.inferno, interpolation='nearest', aspect='equal')\n",
    "plt.show()\n",
    "plt.figure(figsize = (20,20))\n",
    "plt.imshow(1-testNest.area, cmap=plt.cm.binary, interpolation='nearest', aspect='equal')\n",
    "plt.show()"
   ]
  },
  {
   "cell_type": "code",
   "execution_count": 121,
   "metadata": {
    "scrolled": false
   },
   "outputs": [],
   "source": [
    "#blend(self, inputMatrix, backgroundFileName, outputFileName)\n",
    "blendy = Blend2()\n",
    "blendy.blend(inputMatrix=testNest.area, backgroundFileName=\"logo_background.png\", outputFileName=\"test_logo.png\")"
   ]
  }
 ],
 "metadata": {
  "kernelspec": {
   "display_name": "Python 3",
   "language": "python",
   "name": "python3"
  },
  "language_info": {
   "codemirror_mode": {
    "name": "ipython",
    "version": 3
   },
   "file_extension": ".py",
   "mimetype": "text/x-python",
   "name": "python",
   "nbconvert_exporter": "python",
   "pygments_lexer": "ipython3",
   "version": "3.6.4"
  }
 },
 "nbformat": 4,
 "nbformat_minor": 2
}
