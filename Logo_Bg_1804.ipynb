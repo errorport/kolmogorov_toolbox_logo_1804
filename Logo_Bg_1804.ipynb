{
 "cells": [
  {
   "cell_type": "markdown",
   "metadata": {},
   "source": [
    "#### Logo BG 0418 variations\n",
    "\n",
    "First"
   ]
  },
  {
   "cell_type": "code",
   "execution_count": 21,
   "metadata": {},
   "outputs": [],
   "source": [
    "import matplotlib.pyplot as plt\n",
    "import matplotlib.image as image\n",
    "from numpy.random import random_integers as rand\n",
    "import numpy as np"
   ]
  },
  {
   "cell_type": "code",
   "execution_count": 22,
   "metadata": {},
   "outputs": [],
   "source": [
    "'''\n",
    "Image saver. Put any matrix in, and it will be saved as a PNG image.\n",
    "It looks exactly the same as if it's plotted.\n",
    "Do not put a default filename in!\n",
    "'''\n",
    "def savePattern(filename_, imgmatrix_, dpi_=100, cmap_=plt.cm.binary):\n",
    "    image.save(filename=filename_, imgmatrix=imgmatrix_, dpi=dpi_, cmap=cmap_)\n",
    "    \n",
    "\n"
   ]
  },
  {
   "cell_type": "code",
   "execution_count": 23,
   "metadata": {},
   "outputs": [],
   "source": [
    "'''\n",
    "Element is just a position handling class.\n",
    "    - setPosition() sets the position directly\n",
    "    - move() adds the given matrix or coordinates\n",
    "'''\n",
    "class Element:\n",
    "    position=np.matrix([0,0])\n",
    "    def __init__(self, x_=0, y_=0):\n",
    "        self.setPosition(x_, y_)\n",
    "        \n",
    "    def setPosition(self, x_=0, y_=0):\n",
    "        position=np.matrix([x_,y_])\n",
    "        \n",
    "    def move(self, x_, y_):\n",
    "        position+=np.matrix([x_, y_])\n",
    "        \n",
    "    def move(self, operand):\n",
    "        position+=operand"
   ]
  },
  {
   "cell_type": "code",
   "execution_count": 24,
   "metadata": {},
   "outputs": [],
   "source": [
    "class Node(Element):\n",
    "    #position is for the node's position in the final image\n",
    "    position = np.matrix([0,0])\n",
    "    #token is a set of available branches that a node can put (obvi: in our case it can't be more than 3)\n",
    "    token=3\n",
    "    #freePoints are for listing the checked positions where the node can put another node (branch)\n",
    "    freePoints=[]\n",
    "    #you can specify a bias that can modify the shape of the tree\n",
    "    #bias[up,right,down,left]\n",
    "    bias=[]\n",
    "    \n",
    "    def __init__(self, position_=0, bias=[1,1,1,1]):\n",
    "        self.position = position_\n",
    "        self.token=3\n",
    "        \n",
    "    '''\n",
    "    Check if got any places around in orthogonal edges of nodeArea.\n",
    "    nodeArea is a StartingNest.nodeArea * StartingNest.nodeArea shaped matrix around the node.\n",
    "    '''\n",
    "    def checkNeighbour(self, nodeArea=0):\n",
    "        #get the center point\n",
    "        centerX = nodeArea.shape[0]//2\n",
    "        centerY = nodeArea.shape[1]//2\n",
    "        #check the free points\n",
    "        #collect them into self.freePoints array\n",
    "        #flushing the freePoints list\n",
    "        self.freePoints=[]\n",
    "        #checking the upper section\n",
    "        if np.count_nonzero(nodeArea[0:centerX, centerY])==0:\n",
    "            freePoint = [0, centerY]\n",
    "            self.freePoints.append(freePoint)\n",
    "        #checking the right section\n",
    "        if np.count_nonzero(nodeArea[centerX, centerY:nodeArea.shape[1]])==0:\n",
    "            freePoint = [centerX, nodeArea.shape[1]]\n",
    "            self.freePoints.append(freePoint)\n",
    "        #checking the bottom section\n",
    "        if np.count_nonzero(nodeArea[centerX:nodeArea.shape[0], centerY])==0:\n",
    "            freePoint = [nodeArea.shape[0], centerY]\n",
    "            self.freePoints.append(freePoint)\n",
    "        #checking the LEFT WING <plays proud russian hardtechno>\n",
    "        if np.count_nonzero(nodeArea[centerX, 0:centerY])==0:\n",
    "            freePoint = [centerX, 0]\n",
    "            self.freePoints.append(freePoint)\n",
    "        return len(self.freePoints)\n",
    "        \n",
    "    def putNode(self):\n",
    "        #choose a freePoint from self.freePoints\n",
    "        #put a node and draw the line\n",
    "        return 0\n",
    "        \n",
    "    def step(self, nodeArea):\n",
    "        neighbours = self.checkNeighbour(nodeArea)\n",
    "        if self.token>0 and neighbours<3:\n",
    "            self.token-=1\n",
    "            self.putNode()\n",
    "            "
   ]
  },
  {
   "cell_type": "code",
   "execution_count": 25,
   "metadata": {},
   "outputs": [],
   "source": [
    "'''\n",
    "StartingNest is a class for start several StartingNode-s.\n",
    "    - startingPositionMatrix : where the first nodes are\n",
    "    - nodeArea : checked area on any node steps. it puts a new node on the edge of it.\n",
    "                 it has to be an odd number!\n",
    "    - \n",
    "'''\n",
    "\n",
    "class StartingNest(Element):\n",
    "    startingPositionMatrix=np.matrix([[0,1,0],[1,0,1],[0,1,0]])\n",
    "    nodeArea=5\n",
    "    nodes=[]\n",
    "    iterations=10\n",
    "    area=np.zeros([1,1])\n",
    "    \n",
    "    def __init__(self, startingPositionMatrix_, nodeArea_=5, areaX_=100, areaY_=100, iterations=10):\n",
    "        self.startingPositionMatrix=startingPositionMatrix_\n",
    "        self.nodeArea=nodeArea_\n",
    "        self.area=np.zeros([areaX_, areaY_])\n",
    "        self.iterations=iterations\n",
    "        self.setInitialNodes()\n",
    "    \n",
    "    def setInitialNodes(self):\n",
    "        centerX = self.area.shape[0]//2 - self.startingPositionMatrix.shape[0]//2\n",
    "        centerY = self.area.shape[1]//2 - self.startingPositionMatrix.shape[1]//2\n",
    "        self.area=self.mergeMatrices(imageMatrix=self.area, drawMatrix=self.startingPositionMatrix, x=centerX, y=centerY)\n",
    "        plt.imshow(self.area, cmap=plt.cm.binary, interpolation='nearest')\n",
    "        plt.show()\n",
    "        \n",
    "    '''\n",
    "    Merge matrices. You can give an offset.\n",
    "    returns: modified imageMatrix, nodePositions\n",
    "    '''    \n",
    "    def mergeMatrices(self, imageMatrix=0, drawMatrix=0, x=0, y=0):\n",
    "        sx = drawMatrix.shape[0]\n",
    "        sy = drawMatrix.shape[1]\n",
    "        #nodePositions=[]\n",
    "        for ix in range(0,sx):\n",
    "            for iy in range(0,sy):\n",
    "                imageMatrix[ix+x,iy+y] = drawMatrix[ix,iy]\n",
    "                if imageMatrix[ix+x,iy+y] == 1:\n",
    "                    nodeToAdd=Node(np.matrix([ix+x, iy+y]))\n",
    "                    self.nodes.append(nodeToAdd)\n",
    "        return imageMatrix\n",
    "    \n",
    "    def getArea(self, x_=0, y_=0):\n",
    "        area = np.zeros([self.nodeArea, self.nodeArea])\n",
    "        xPos=x_-self.nodeArea//2\n",
    "        yPos=y_-self.nodeArea//2\n",
    "        area = self.area[xPos:xPos+self.nodeArea, yPos:yPos+self.nodeArea]\n",
    "        #plt.imshow(area, cmap=plt.cm.binary, interpolation='nearest')\n",
    "        #plt.show()\n",
    "        return area\n",
    "    \n",
    "    def run(self):\n",
    "        while self.iterations>0:\n",
    "            for i in range(0,len(self.nodes)):\n",
    "                nodeArea=self.getArea(self.nodes[i].position[0,0], self.nodes[i].position[0,1])\n",
    "                self.nodes[i].step(nodeArea)\n",
    "            self.iterations-=1"
   ]
  },
  {
   "cell_type": "code",
   "execution_count": 26,
   "metadata": {},
   "outputs": [
    {
     "data": {
      "image/png": "[encoded data removed]",
      "text/plain": [
       "<matplotlib.figure.Figure at 0x7fbe6da7db00>"
      ]
     },
     "metadata": {},
     "output_type": "display_data"
    },
    {
     "data": {
      "text/plain": [
       "50"
      ]
     },
     "execution_count": 26,
     "metadata": {},
     "output_type": "execute_result"
    }
   ],
   "source": [
    "testNest = StartingNest(startingPositionMatrix_=np.matrix([[1,0,1,0,1]]), nodeArea_=7)\n",
    "testNest.area\n",
    "testNest.nodes[2].position[0,0]"
   ]
  },
  {
   "cell_type": "code",
   "execution_count": 27,
   "metadata": {},
   "outputs": [
    {
     "data": {
      "text/plain": [
       "matrix([[50, 48]])"
      ]
     },
     "execution_count": 27,
     "metadata": {},
     "output_type": "execute_result"
    }
   ],
   "source": [
    "testNest.nodes[0].position"
   ]
  },
  {
   "cell_type": "code",
   "execution_count": 28,
   "metadata": {
    "scrolled": false
   },
   "outputs": [],
   "source": [
    "testNest.run()"
   ]
  }
 ],
 "metadata": {
  "kernelspec": {
   "display_name": "Python 3",
   "language": "python",
   "name": "python3"
  },
  "language_info": {
   "codemirror_mode": {
    "name": "ipython",
    "version": 3
   },
   "file_extension": ".py",
   "mimetype": "text/x-python",
   "name": "python",
   "nbconvert_exporter": "python",
   "pygments_lexer": "ipython3",
   "version": "3.6.4"
  }
 },
 "nbformat": 4,
 "nbformat_minor": 2
}
