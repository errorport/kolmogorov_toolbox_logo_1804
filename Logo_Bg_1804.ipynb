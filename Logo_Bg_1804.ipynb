{
 "cells": [
  {
   "cell_type": "markdown",
   "metadata": {},
   "source": [
    "#### Logo BG 0418 variations\n",
    "\n",
    "First"
   ]
  },
  {
   "cell_type": "code",
   "execution_count": 1,
   "metadata": {},
   "outputs": [],
   "source": [
    "import matplotlib.pyplot as plt\n",
    "import matplotlib.image as image\n",
    "from numpy.random import random_integers as rand\n",
    "import numpy as np"
   ]
  },
  {
   "cell_type": "code",
   "execution_count": 2,
   "metadata": {},
   "outputs": [],
   "source": [
    "'''\n",
    "Image saver. Put any matrix in, and it will be saved as a PNG image.\n",
    "It looks exactly the same as if it's plotted.\n",
    "Do not put a default filename in!\n",
    "'''\n",
    "def savePattern(filename_, imgmatrix_, dpi_=100, cmap_=plt.cm.inferno):\n",
    "    im = image\n",
    "    image.imsave(fname=filename_, arr=imgmatrix_, dpi=dpi_, cmap=cmap_)\n",
    "    \n",
    "\n"
   ]
  },
  {
   "cell_type": "code",
   "execution_count": 12,
   "metadata": {},
   "outputs": [],
   "source": [
    "'''\n",
    "Element is just a position handling class.\n",
    "    - setPosition() sets the position directly\n",
    "    - move() adds the given matrix or coordinates\n",
    "'''\n",
    "class Element(object):\n",
    "    position=np.matrix([0,0])\n",
    "    def __init__(self, x_=0, y_=0):\n",
    "        self.position=np.matrix([x_,y_])\n",
    "        self.setPosition(x_, y_)\n",
    "        \n",
    "    def __del__(self):\n",
    "        del self\n",
    "        \n",
    "    def setPosition(self, x_=0, y_=0):\n",
    "        self.position=np.matrix([x_,y_])\n",
    "        \n",
    "    def move(self, x_, y_):\n",
    "        self.position+=np.matrix([x_, y_])\n",
    "        \n",
    "    def move(self, operand):\n",
    "        self.position+=operand"
   ]
  },
  {
   "cell_type": "code",
   "execution_count": 88,
   "metadata": {},
   "outputs": [],
   "source": [
    "class Node(Element):\n",
    "    #position is for the node's position in the final image\n",
    "    position = np.matrix([0,0])\n",
    "    #token is a set of available branches that a node can put (obvi: in our case it can't be more than 3)\n",
    "    token=2\n",
    "    #freePoints are for listing the checked positions where the node can put another node (branch)\n",
    "    freePoints=[]\n",
    "    #you can specify a bias that can modify the shape of the tree\n",
    "    #bias[up,right,down,left]\n",
    "    bias=[]\n",
    "    \n",
    "    def __init__(self, position_=0, bias_=[50,1,1,1]):\n",
    "        self.position = position_\n",
    "        self.bias=bias_\n",
    "        self.token=2\n",
    "        \n",
    "    '''\n",
    "    Check if got any places around in orthogonal edges of nodeArea.\n",
    "    nodeArea is a StartingNest.nodeArea * StartingNest.nodeArea shaped matrix around the node.\n",
    "    '''\n",
    "    def checkNeighbour(self, nodeArea=0):\n",
    "        #get the center point\n",
    "        centerX = nodeArea.shape[0]//2\n",
    "        centerY = nodeArea.shape[1]//2\n",
    "        #check the free points\n",
    "        #collect them into self.freePoints array\n",
    "        #flushing the freePoints list\n",
    "        self.freePoints=[]\n",
    "        #checking the upper section\n",
    "        #print(\"------------------------\")\n",
    "        #print(\"area:\")\n",
    "        #print(nodeArea)\n",
    "        \n",
    "        #checking the top section\n",
    "        if np.count_nonzero(nodeArea[0:centerX, centerY])==0:\n",
    "            #print(\"up ok\")\n",
    "            freePoint = [0, centerY]\n",
    "            self.freePoints.append('u')\n",
    "        #print(\"found branch values on up: \", np.count_nonzero(nodeArea[0:centerX, centerY]))\n",
    "        \n",
    "        #checking the right section\n",
    "        if np.count_nonzero(nodeArea[centerX, (centerY+1):nodeArea.shape[1]])==0:\n",
    "            #print(\"right ok\")\n",
    "            freePoint = [centerX, nodeArea.shape[1]]\n",
    "            self.freePoints.append('r')\n",
    "        #print(\"found branch values on right: \", np.count_nonzero(nodeArea[centerX, (centerY+1):nodeArea.shape[1]]))\n",
    "        \n",
    "        #checking the bottom section\n",
    "        if np.count_nonzero(nodeArea[(centerX+1):nodeArea.shape[0], centerY])==0:\n",
    "            #print(\"bottom ok\")\n",
    "            freePoint = [nodeArea.shape[0], centerY]\n",
    "            self.freePoints.append('d')\n",
    "        #print(\"found branch values on bottom: \", np.count_nonzero(nodeArea[(centerX+1):nodeArea.shape[0], centerY]))\n",
    "        \n",
    "        #checking the LEFT WING <plays proud russian hardtechno>\n",
    "        if np.count_nonzero(nodeArea[centerX, 0:centerY])==0:\n",
    "            #print(\"left ok\")\n",
    "            freePoint = [centerX, 0]\n",
    "            self.freePoints.append('l')\n",
    "        #print(\"found branch values on left: \", np.count_nonzero(nodeArea[centerX, 0:centerY]))\n",
    "        return len(self.freePoints)\n",
    "        \n",
    "    def putNode(self, nodeArea, nest):\n",
    "        #choose a freePoint from self.freePoints\n",
    "        \n",
    "        #newNodePosition=self.doArbitratedBranch(nodeArea, nest)\n",
    "        newNodePosition=self.doArbitratedBranch(nodeArea, nest)\n",
    "\n",
    "        #put a node and draw the line\n",
    "        #print(\"actual position:\", self.position)\n",
    "        #print(\"chosen position:\", newNodePosition)\n",
    "        self.drawBranch(newNodePosition, nest)\n",
    "        nest.addNode(newNodePosition)\n",
    "        return 0\n",
    "    \n",
    "    def doArbitratedBranch(self, nodeArea, nest):\n",
    "        newNodePosition=[]\n",
    "        match=0\n",
    "        while match==0:\n",
    "            direction = self.getFreePointByBias()\n",
    "            if direction == 0 and np.count_nonzero(np.isin(self.freePoints, 'u')):\n",
    "                newNodePosition=[self.position[0,0]-(nodeArea.shape[0]//2),self.position[0,1]]\n",
    "                match=1\n",
    "\n",
    "            if direction == 1 and np.count_nonzero(np.isin(self.freePoints, 'r')):\n",
    "                newNodePosition=[self.position[0,0],self.position[0,1]+(nodeArea.shape[1]//2)]\n",
    "                match=1\n",
    "\n",
    "            if direction == 2 and np.count_nonzero(np.isin(self.freePoints, 'd')):\n",
    "                newNodePosition=[self.position[0,0]+(nodeArea.shape[0]//2),self.position[0,1]]\n",
    "                match=1\n",
    "\n",
    "            if direction == 3 and np.count_nonzero(np.isin(self.freePoints, 'l')):\n",
    "                newNodePosition=[self.position[0,0],self.position[0,1]-(nodeArea.shape[1]//2)]\n",
    "                match=1\n",
    "        return newNodePosition\n",
    "    \n",
    "    def doUnArbitratedBranch(self, nodeArea, nest):\n",
    "        newNodePosition=[]\n",
    "        direction = self.getFreePointByBias()\n",
    "        if direction == 0 and np.count_nonzero(np.isin(self.freePoints, 'u')):\n",
    "            newNodePosition=[self.position[0,0]-(nodeArea.shape[0]//2),self.position[0,1]]\n",
    "\n",
    "        if direction == 1 and np.count_nonzero(np.isin(self.freePoints, 'r')):\n",
    "            newNodePosition=[self.position[0,0],self.position[0,1]+(nodeArea.shape[1]//2)]\n",
    "\n",
    "        if direction == 2 and np.count_nonzero(np.isin(self.freePoints, 'd')):\n",
    "            newNodePosition=[self.position[0,0]+(nodeArea.shape[0]//2),self.position[0,1]]\n",
    "\n",
    "        if direction == 3 and np.count_nonzero(np.isin(self.freePoints, 'l')):\n",
    "            newNodePosition=[self.position[0,0],self.position[0,1]-(nodeArea.shape[1]//2)]\n",
    "        return newNodePosition\n",
    "    \n",
    "    def drawBranch(self, newPosition, nest):\n",
    "        if len(newPosition)>0:\n",
    "            if newPosition[0]>self.position[0,0]:\n",
    "                lowerX=self.position[0,0]\n",
    "                higherX=newPosition[0]\n",
    "            else:\n",
    "                lowerX=newPosition[0]\n",
    "                higherX=self.position[0,0]\n",
    "            if newPosition[0]==self.position[0,0]:\n",
    "                lowerX=newPosition[0]\n",
    "                higherX=self.position[0,0]+1\n",
    "\n",
    "            if newPosition[1]>self.position[0,1]:\n",
    "                lowerY=self.position[0,1]\n",
    "                higherY=newPosition[1]\n",
    "            else:\n",
    "                lowerY=newPosition[1]\n",
    "                higherY=self.position[0,1]\n",
    "            if newPosition[1]==self.position[0,1]:\n",
    "                lowerY=newPosition[1]\n",
    "                higherY=self.position[0,1]+1\n",
    "\n",
    "            if newPosition[0]<nest.area.shape[0] and newPosition[1]<nest.area.shape[1]:\n",
    "                nest.area[newPosition[0], newPosition[1]] = 1000# nest.iterations+100\n",
    "                nest.area[lowerX:higherX, lowerY:higherY] = 1000# nest.iterations+100\n",
    "        \n",
    "        return 0\n",
    "    \n",
    "    def getFreePointByBias(self):\n",
    "        direction=[]\n",
    "        #to up\n",
    "        direction.append(np.random.rand(1)*self.bias[0])\n",
    "        #to right\n",
    "        direction.append(np.random.rand(1)*self.bias[1])\n",
    "        #to down\n",
    "        direction.append(np.random.rand(1)*self.bias[2])\n",
    "        #to the dreamland\n",
    "        direction.append(np.random.rand(1)*self.bias[3])\n",
    "        return np.argmax(direction)\n",
    "        \n",
    "    def step(self, nodeArea, nest):\n",
    "        if self.position[0,0]>nest.nodeArea and self.position[0,0]<nest.area.shape[0]-nest.nodeArea\\\n",
    "            and self.position[0,1]>nest.nodeArea and self.position[0,1]<nest.area.shape[1]-nest.nodeArea :\n",
    "            freePoints = self.checkNeighbour(nodeArea)\n",
    "            if self.token>0 and freePoints>0:\n",
    "                self.token-=1\n",
    "                self.putNode(nodeArea, nest)\n",
    "        else:\n",
    "            print(\"drop.\")\n",
    "            self.token=0\n",
    "            "
   ]
  },
  {
   "cell_type": "code",
   "execution_count": 95,
   "metadata": {},
   "outputs": [],
   "source": [
    "'''\n",
    "StartingNest is a class for start several StartingNode-s.\n",
    "    - startingPositionMatrix : where the first nodes are\n",
    "    - nodeArea : checked area on any node steps. it puts a new node on the edge of it.\n",
    "                 it has to be an odd number!\n",
    "    - \n",
    "'''\n",
    "\n",
    "class StartingNest(Element, object):\n",
    "    startingPositionMatrix=np.matrix([[0,1,0],[1,0,1],[0,1,0]])\n",
    "    nodeArea=5\n",
    "    nodes=[]\n",
    "    iterations=10\n",
    "    initial_iteration=0\n",
    "    area=np.zeros([1,1])\n",
    "    T0 = 0\n",
    "    Td = 1\n",
    "    \n",
    "    def __init__(self, startingPositionMatrix_, nodeArea_=5, areaX_=100, areaY_=100, iterations=10, T0=1, Td=1):\n",
    "        self.T0 = T0\n",
    "        self.Td = Td\n",
    "        self.startingPositionMatrix=startingPositionMatrix_\n",
    "        self.nodeArea=nodeArea_\n",
    "        nodes=[]\n",
    "        self.area=np.zeros([areaX_, areaY_])\n",
    "        self.iterations=iterations\n",
    "        self.initial_iterations=iterations\n",
    "        print(\"Created.\")\n",
    "        \n",
    "    def __del__(self):\n",
    "        print(\"Deleted.\")        \n",
    "    \n",
    "    def setInitialNodes(self):\n",
    "        self.nodes=[]\n",
    "        centerX = self.area.shape[0]//2 - self.startingPositionMatrix.shape[0]//2\n",
    "        centerY = self.area.shape[1]//2 - self.startingPositionMatrix.shape[1]//2\n",
    "        self.area=self.mergeMatrices(imageMatrix=self.area, drawMatrix=self.startingPositionMatrix, x=centerX, y=centerY)\n",
    "        plt.imshow(self.area, cmap=plt.cm.binary, interpolation='nearest')\n",
    "        plt.show()\n",
    "        \n",
    "    def addNode(self, position, token=2):\n",
    "        if len(position)>0:\n",
    "            nodeToAdd=Node(np.matrix([position[0], position[1]]))\n",
    "            #token = calculate_token_probability()>1 ? random.randint(2,4) : 1 \n",
    "            #print(self.calculate_token_probability())\n",
    "            if self.calculate_token_probability()>1:\n",
    "                token = 2\n",
    "            elif self.calculate_token_probability()>10:\n",
    "                token = 3\n",
    "            else:\n",
    "                token = 1\n",
    "            nodeToAdd.token=token\n",
    "            self.nodes.append(nodeToAdd)\n",
    "        \n",
    "    '''\n",
    "    Merge matrices. You can give an offset.\n",
    "    returns: modified imageMatrix, nodePositions\n",
    "    '''    \n",
    "    def mergeMatrices(self, imageMatrix=0, drawMatrix=0, x=0, y=0):\n",
    "        sx = drawMatrix.shape[0]\n",
    "        sy = drawMatrix.shape[1]\n",
    "        #nodePositions=[]\n",
    "        for ix in range(0,sx):\n",
    "            for iy in range(0,sy):\n",
    "                imageMatrix[ix+x,iy+y] = drawMatrix[ix,iy]\n",
    "                if imageMatrix[ix+x,iy+y] > 0:\n",
    "                    self.addNode(position=[ix+x, iy+y], token=1)\n",
    "                    #nodeToAdd=Node(np.matrix([ix+x, iy+y]))\n",
    "                    #self.nodes.append(nodeToAdd)\n",
    "        return imageMatrix\n",
    "    \n",
    "    def getArea(self, x_=0, y_=0):\n",
    "        area = np.zeros([self.nodeArea, self.nodeArea])\n",
    "        xPos=x_-self.nodeArea//2\n",
    "        yPos=y_-self.nodeArea//2\n",
    "        area = self.area[xPos:xPos+self.nodeArea, yPos:yPos+self.nodeArea]\n",
    "        #plt.imshow(area, cmap=plt.cm.binary, interpolation='nearest')\n",
    "        #plt.show()\n",
    "        return area\n",
    "    \n",
    "    def saveForGif(self, filename, img, dpi=120, cmap=plt.cm.binary, scaling_=1):\n",
    "        scaling = scaling_\n",
    "        Z=np.kron(img, np.ones((scaling, scaling)))\n",
    "        savePattern(filename_=filename, imgmatrix_=Z, dpi_=dpi, cmap_=cmap)\n",
    "        \n",
    "    def calculate_token_probability(self):\n",
    "        x = self.initial_iterations - self.iterations\n",
    "        if x > 0:\n",
    "            Tp = (x**2)/((x**self.T0)*self.Td)\n",
    "        else:\n",
    "            Tp = 0\n",
    "        return Tp\n",
    "    \n",
    "    def highlight_endpoints(self):\n",
    "        for i in range(len(self.nodes)):\n",
    "            if self.nodes[i].token == 2:\n",
    "                self.area[self.nodes[i].position[0,0],self.nodes[i].position[0,1]] = 2000\n",
    "    \n",
    "    def run(self, branching_probability=.5):\n",
    "        self.setInitialNodes()\n",
    "        image_index=0\n",
    "        \n",
    "        while self.iterations>0:\n",
    "            for i in range(0,len(self.nodes)):\n",
    "                nodeArea=self.getArea(self.nodes[i].position[0,0], self.nodes[i].position[0,1])\n",
    "                if np.random.rand(1) > branching_probability:\n",
    "                    self.nodes[i].step(nodeArea, self)\n",
    "            self.iterations-=1\n",
    "            self.saveForGif(filename=\"test_viridis_gif_\"+str(\"%03d\" % image_index)+\".png\", img=self.area, dpi=300, cmap=plt.cm.inferno, scaling_=8)\n",
    "            image_index+=1\n",
    "        self.highlight_endpoints()\n",
    "        "
   ]
  },
  {
   "cell_type": "code",
   "execution_count": 96,
   "metadata": {
    "scrolled": false
   },
   "outputs": [
    {
     "name": "stdout",
     "output_type": "stream",
     "text": [
      "Created.\n"
     ]
    },
    {
     "data": {
      "image/png": "[encoded data removed]",
      "text/plain": [
       "<matplotlib.figure.Figure at 0x7f939cc09c88>"
      ]
     },
     "metadata": {},
     "output_type": "display_data"
    },
    {
     "name": "stdout",
     "output_type": "stream",
     "text": [
      "[[46 47]]\n",
      "[[55 41]]\n",
      "[[61 59]]\n",
      "[[43 53]]\n",
      "[[67 62]]\n",
      "[[49 62]]\n",
      "[[61 65]]\n",
      "[[46 35]]\n",
      "[[43 56]]\n",
      "[[37 56]]\n",
      "[[64 47]]\n",
      "[[34 56]]\n",
      "[[49 65]]\n",
      "[[46 65]]\n",
      "[[58 68]]\n",
      "[[55 32]]\n",
      "[[67 47]]\n",
      "[[37 35]]\n",
      "[[37 44]]\n",
      "[[76 62]]\n",
      "[[31 41]]\n",
      "[[34 44]]\n",
      "[[58 26]]\n",
      "[[76 65]]\n",
      "[[31 59]]\n",
      "[[40 65]]\n",
      "[[82 56]]\n",
      "[[46 29]]\n",
      "[[67 29]]\n",
      "[[25 53]]\n",
      "[[34 62]]\n",
      "[[43 68]]\n",
      "[[55 74]]\n",
      "[[31 44]]\n",
      "[[73 35]]\n",
      "[[76 38]]\n",
      "[[22 47]]\n",
      "[[61 71]]\n",
      "[[52 26]]\n",
      "[[46 71]]\n",
      "[[58 74]]\n",
      "[[79 59]]\n",
      "[[22 53]]\n",
      "[[28 56]]\n",
      "[[61 26]]\n",
      "[[43 29]]\n",
      "[[70 29]]\n",
      "[[76 41]]\n",
      "[[25 44]]\n",
      "[[31 38]]\n",
      "[[76 44]]\n",
      "[[73 71]]\n",
      "[[64 23]]\n",
      "[[28 44]]\n",
      "[[55 23]]\n",
      "[[37 32]]\n",
      "[[49 26]]\n",
      "[[37 65]]\n",
      "[[16 50]]\n",
      "[[76 68]]\n",
      "[[49 74]]\n",
      "[[64 74]]\n",
      "[[73 29]]\n",
      "[[52 77]]\n",
      "[[88 56]]\n",
      "[[67 74]]\n"
     ]
    },
    {
     "data": {
      "image/png": "[encoded data removed]",
      "text/plain": [
       "<matplotlib.figure.Figure at 0x7f939cc09b70>"
      ]
     },
     "metadata": {},
     "output_type": "display_data"
    }
   ],
   "source": [
    "testNest = StartingNest(startingPositionMatrix_=np.matrix([[0,0,0,0,0,0,0,0,0,2000,0,0,0,0,0,0,0,0,0]]), nodeArea_=7, iterations=52, areaX_=201, areaY_=101, T0=.6, Td=100)\n",
    "testNest.move(np.array([100,0]))\n",
    "testNest.run(.5)\n",
    "plt.figure(figsize = (20,20))\n",
    "plt.imshow(testNest.area, cmap=plt.cm.binary, interpolation='nearest', aspect='equal')\n",
    "plt.show()"
   ]
  },
  {
   "cell_type": "code",
   "execution_count": 84,
   "metadata": {},
   "outputs": [
    {
     "name": "stdout",
     "output_type": "stream",
     "text": [
      "Created.\n",
      "Deleted.\n"
     ]
    },
    {
     "data": {
      "image/png": "[encoded data removed]",
      "text/plain": [
       "<matplotlib.figure.Figure at 0x7f9378ec1b38>"
      ]
     },
     "metadata": {},
     "output_type": "display_data"
    },
    {
     "name": "stdout",
     "output_type": "stream",
     "text": [
      "Ready: 000\n",
      "Created.\n",
      "Deleted.\n"
     ]
    },
    {
     "data": {
      "image/png": "[encoded data removed]",
      "text/plain": [
       "<matplotlib.figure.Figure at 0x7f9377b5a710>"
      ]
     },
     "metadata": {},
     "output_type": "display_data"
    },
    {
     "ename": "KeyboardInterrupt",
     "evalue": "",
     "output_type": "error",
     "traceback": [
      "\u001b[0;31m---------------------------------------------------------------------------\u001b[0m",
      "\u001b[0;31mKeyboardInterrupt\u001b[0m                         Traceback (most recent call last)",
      "\u001b[0;32m<ipython-input-84-b2a8dbe0c028>\u001b[0m in \u001b[0;36m<module>\u001b[0;34m()\u001b[0m\n\u001b[1;32m      1\u001b[0m \u001b[0;32mfor\u001b[0m \u001b[0mi\u001b[0m \u001b[0;32min\u001b[0m \u001b[0mrange\u001b[0m\u001b[0;34m(\u001b[0m\u001b[0;36m100\u001b[0m\u001b[0;34m)\u001b[0m\u001b[0;34m:\u001b[0m\u001b[0;34m\u001b[0m\u001b[0m\n\u001b[1;32m      2\u001b[0m     \u001b[0mnest\u001b[0m \u001b[0;34m=\u001b[0m \u001b[0mStartingNest\u001b[0m\u001b[0;34m(\u001b[0m\u001b[0mstartingPositionMatrix_\u001b[0m\u001b[0;34m=\u001b[0m\u001b[0mnp\u001b[0m\u001b[0;34m.\u001b[0m\u001b[0mmatrix\u001b[0m\u001b[0;34m(\u001b[0m\u001b[0;34m[\u001b[0m\u001b[0;34m[\u001b[0m\u001b[0;36m0\u001b[0m\u001b[0;34m,\u001b[0m\u001b[0;36m0\u001b[0m\u001b[0;34m,\u001b[0m\u001b[0;36m0\u001b[0m\u001b[0;34m,\u001b[0m\u001b[0;36m0\u001b[0m\u001b[0;34m,\u001b[0m\u001b[0;36m0\u001b[0m\u001b[0;34m,\u001b[0m\u001b[0;36m0\u001b[0m\u001b[0;34m,\u001b[0m\u001b[0;36m0\u001b[0m\u001b[0;34m,\u001b[0m\u001b[0;36m0\u001b[0m\u001b[0;34m,\u001b[0m\u001b[0;36m0\u001b[0m\u001b[0;34m,\u001b[0m\u001b[0;36m2000\u001b[0m\u001b[0;34m,\u001b[0m\u001b[0;36m0\u001b[0m\u001b[0;34m,\u001b[0m\u001b[0;36m0\u001b[0m\u001b[0;34m,\u001b[0m\u001b[0;36m0\u001b[0m\u001b[0;34m,\u001b[0m\u001b[0;36m0\u001b[0m\u001b[0;34m,\u001b[0m\u001b[0;36m0\u001b[0m\u001b[0;34m,\u001b[0m\u001b[0;36m0\u001b[0m\u001b[0;34m,\u001b[0m\u001b[0;36m0\u001b[0m\u001b[0;34m,\u001b[0m\u001b[0;36m0\u001b[0m\u001b[0;34m,\u001b[0m\u001b[0;36m0\u001b[0m\u001b[0;34m]\u001b[0m\u001b[0;34m]\u001b[0m\u001b[0;34m)\u001b[0m\u001b[0;34m,\u001b[0m \u001b[0mnodeArea_\u001b[0m\u001b[0;34m=\u001b[0m\u001b[0;36m7\u001b[0m\u001b[0;34m,\u001b[0m \u001b[0miterations\u001b[0m\u001b[0;34m=\u001b[0m\u001b[0;36m50\u001b[0m\u001b[0;34m,\u001b[0m \u001b[0mareaX_\u001b[0m\u001b[0;34m=\u001b[0m\u001b[0;36m201\u001b[0m\u001b[0;34m,\u001b[0m \u001b[0mareaY_\u001b[0m\u001b[0;34m=\u001b[0m\u001b[0;36m101\u001b[0m\u001b[0;34m,\u001b[0m \u001b[0mT0\u001b[0m\u001b[0;34m=\u001b[0m\u001b[0;36m.6\u001b[0m\u001b[0;34m,\u001b[0m \u001b[0mTd\u001b[0m\u001b[0;34m=\u001b[0m\u001b[0;36m70\u001b[0m\u001b[0;34m)\u001b[0m\u001b[0;34m\u001b[0m\u001b[0m\n\u001b[0;32m----> 3\u001b[0;31m     \u001b[0mnest\u001b[0m\u001b[0;34m.\u001b[0m\u001b[0mrun\u001b[0m\u001b[0;34m(\u001b[0m\u001b[0;36m.5\u001b[0m\u001b[0;34m)\u001b[0m\u001b[0;34m\u001b[0m\u001b[0m\n\u001b[0m\u001b[1;32m      4\u001b[0m     \u001b[0mnest\u001b[0m\u001b[0;34m.\u001b[0m\u001b[0msaveForGif\u001b[0m\u001b[0;34m(\u001b[0m\u001b[0mfilename\u001b[0m\u001b[0;34m=\u001b[0m\u001b[0;34m\"kolmogorov_logo_1804_\"\u001b[0m\u001b[0;34m+\u001b[0m\u001b[0mstr\u001b[0m\u001b[0;34m(\u001b[0m\u001b[0;34m\"%03d\"\u001b[0m \u001b[0;34m%\u001b[0m \u001b[0mi\u001b[0m\u001b[0;34m)\u001b[0m\u001b[0;34m+\u001b[0m\u001b[0;34m\".png\"\u001b[0m\u001b[0;34m,\u001b[0m \u001b[0mimg\u001b[0m\u001b[0;34m=\u001b[0m\u001b[0mnest\u001b[0m\u001b[0;34m.\u001b[0m\u001b[0marea\u001b[0m\u001b[0;34m)\u001b[0m\u001b[0;34m\u001b[0m\u001b[0m\n\u001b[1;32m      5\u001b[0m     \u001b[0mprint\u001b[0m\u001b[0;34m(\u001b[0m\u001b[0;34m\"Ready:\"\u001b[0m\u001b[0;34m,\u001b[0m \u001b[0mstr\u001b[0m\u001b[0;34m(\u001b[0m\u001b[0;34m\"%03d\"\u001b[0m \u001b[0;34m%\u001b[0m \u001b[0mi\u001b[0m\u001b[0;34m)\u001b[0m\u001b[0;34m)\u001b[0m\u001b[0;34m\u001b[0m\u001b[0m\n",
      "\u001b[0;32m<ipython-input-70-120ca274d362>\u001b[0m in \u001b[0;36mrun\u001b[0;34m(self, branching_probability)\u001b[0m\n\u001b[1;32m    102\u001b[0m                     \u001b[0mself\u001b[0m\u001b[0;34m.\u001b[0m\u001b[0mnodes\u001b[0m\u001b[0;34m[\u001b[0m\u001b[0mi\u001b[0m\u001b[0;34m]\u001b[0m\u001b[0;34m.\u001b[0m\u001b[0mstep\u001b[0m\u001b[0;34m(\u001b[0m\u001b[0mnodeArea\u001b[0m\u001b[0;34m,\u001b[0m \u001b[0mself\u001b[0m\u001b[0;34m)\u001b[0m\u001b[0;34m\u001b[0m\u001b[0m\n\u001b[1;32m    103\u001b[0m             \u001b[0mself\u001b[0m\u001b[0;34m.\u001b[0m\u001b[0miterations\u001b[0m\u001b[0;34m-=\u001b[0m\u001b[0;36m1\u001b[0m\u001b[0;34m\u001b[0m\u001b[0m\n\u001b[0;32m--> 104\u001b[0;31m             \u001b[0mself\u001b[0m\u001b[0;34m.\u001b[0m\u001b[0msaveForGif\u001b[0m\u001b[0;34m(\u001b[0m\u001b[0mfilename\u001b[0m\u001b[0;34m=\u001b[0m\u001b[0;34m\"test_viridis_gif_\"\u001b[0m\u001b[0;34m+\u001b[0m\u001b[0mstr\u001b[0m\u001b[0;34m(\u001b[0m\u001b[0;34m\"%03d\"\u001b[0m \u001b[0;34m%\u001b[0m \u001b[0mimage_index\u001b[0m\u001b[0;34m)\u001b[0m\u001b[0;34m+\u001b[0m\u001b[0;34m\".png\"\u001b[0m\u001b[0;34m,\u001b[0m \u001b[0mimg\u001b[0m\u001b[0;34m=\u001b[0m\u001b[0mself\u001b[0m\u001b[0;34m.\u001b[0m\u001b[0marea\u001b[0m\u001b[0;34m,\u001b[0m \u001b[0mdpi\u001b[0m\u001b[0;34m=\u001b[0m\u001b[0;36m300\u001b[0m\u001b[0;34m,\u001b[0m \u001b[0mcmap\u001b[0m\u001b[0;34m=\u001b[0m\u001b[0mplt\u001b[0m\u001b[0;34m.\u001b[0m\u001b[0mcm\u001b[0m\u001b[0;34m.\u001b[0m\u001b[0minferno\u001b[0m\u001b[0;34m,\u001b[0m \u001b[0mscaling_\u001b[0m\u001b[0;34m=\u001b[0m\u001b[0;36m8\u001b[0m\u001b[0;34m)\u001b[0m\u001b[0;34m\u001b[0m\u001b[0m\n\u001b[0m\u001b[1;32m    105\u001b[0m             \u001b[0mimage_index\u001b[0m\u001b[0;34m+=\u001b[0m\u001b[0;36m1\u001b[0m\u001b[0;34m\u001b[0m\u001b[0m\n\u001b[1;32m    106\u001b[0m \u001b[0;34m\u001b[0m\u001b[0m\n",
      "\u001b[0;32m<ipython-input-70-120ca274d362>\u001b[0m in \u001b[0;36msaveForGif\u001b[0;34m(self, filename, img, dpi, cmap, scaling_)\u001b[0m\n\u001b[1;32m     82\u001b[0m         \u001b[0mscaling\u001b[0m \u001b[0;34m=\u001b[0m \u001b[0mscaling_\u001b[0m\u001b[0;34m\u001b[0m\u001b[0m\n\u001b[1;32m     83\u001b[0m         \u001b[0mZ\u001b[0m\u001b[0;34m=\u001b[0m\u001b[0mnp\u001b[0m\u001b[0;34m.\u001b[0m\u001b[0mkron\u001b[0m\u001b[0;34m(\u001b[0m\u001b[0mimg\u001b[0m\u001b[0;34m,\u001b[0m \u001b[0mnp\u001b[0m\u001b[0;34m.\u001b[0m\u001b[0mones\u001b[0m\u001b[0;34m(\u001b[0m\u001b[0;34m(\u001b[0m\u001b[0mscaling\u001b[0m\u001b[0;34m,\u001b[0m \u001b[0mscaling\u001b[0m\u001b[0;34m)\u001b[0m\u001b[0;34m)\u001b[0m\u001b[0;34m)\u001b[0m\u001b[0;34m\u001b[0m\u001b[0m\n\u001b[0;32m---> 84\u001b[0;31m         \u001b[0msavePattern\u001b[0m\u001b[0;34m(\u001b[0m\u001b[0mfilename_\u001b[0m\u001b[0;34m=\u001b[0m\u001b[0mfilename\u001b[0m\u001b[0;34m,\u001b[0m \u001b[0mimgmatrix_\u001b[0m\u001b[0;34m=\u001b[0m\u001b[0mZ\u001b[0m\u001b[0;34m,\u001b[0m \u001b[0mdpi_\u001b[0m\u001b[0;34m=\u001b[0m\u001b[0mdpi\u001b[0m\u001b[0;34m,\u001b[0m \u001b[0mcmap_\u001b[0m\u001b[0;34m=\u001b[0m\u001b[0mcmap\u001b[0m\u001b[0;34m)\u001b[0m\u001b[0;34m\u001b[0m\u001b[0m\n\u001b[0m\u001b[1;32m     85\u001b[0m \u001b[0;34m\u001b[0m\u001b[0m\n\u001b[1;32m     86\u001b[0m     \u001b[0;32mdef\u001b[0m \u001b[0mcalculate_token_probability\u001b[0m\u001b[0;34m(\u001b[0m\u001b[0mself\u001b[0m\u001b[0;34m)\u001b[0m\u001b[0;34m:\u001b[0m\u001b[0;34m\u001b[0m\u001b[0m\n",
      "\u001b[0;32m<ipython-input-2-101c0a9e1be3>\u001b[0m in \u001b[0;36msavePattern\u001b[0;34m(filename_, imgmatrix_, dpi_, cmap_)\u001b[0m\n\u001b[1;32m      6\u001b[0m \u001b[0;32mdef\u001b[0m \u001b[0msavePattern\u001b[0m\u001b[0;34m(\u001b[0m\u001b[0mfilename_\u001b[0m\u001b[0;34m,\u001b[0m \u001b[0mimgmatrix_\u001b[0m\u001b[0;34m,\u001b[0m \u001b[0mdpi_\u001b[0m\u001b[0;34m=\u001b[0m\u001b[0;36m100\u001b[0m\u001b[0;34m,\u001b[0m \u001b[0mcmap_\u001b[0m\u001b[0;34m=\u001b[0m\u001b[0mplt\u001b[0m\u001b[0;34m.\u001b[0m\u001b[0mcm\u001b[0m\u001b[0;34m.\u001b[0m\u001b[0minferno\u001b[0m\u001b[0;34m)\u001b[0m\u001b[0;34m:\u001b[0m\u001b[0;34m\u001b[0m\u001b[0m\n\u001b[1;32m      7\u001b[0m     \u001b[0mim\u001b[0m \u001b[0;34m=\u001b[0m \u001b[0mimage\u001b[0m\u001b[0;34m\u001b[0m\u001b[0m\n\u001b[0;32m----> 8\u001b[0;31m     \u001b[0mimage\u001b[0m\u001b[0;34m.\u001b[0m\u001b[0mimsave\u001b[0m\u001b[0;34m(\u001b[0m\u001b[0mfname\u001b[0m\u001b[0;34m=\u001b[0m\u001b[0mfilename_\u001b[0m\u001b[0;34m,\u001b[0m \u001b[0marr\u001b[0m\u001b[0;34m=\u001b[0m\u001b[0mimgmatrix_\u001b[0m\u001b[0;34m,\u001b[0m \u001b[0mdpi\u001b[0m\u001b[0;34m=\u001b[0m\u001b[0mdpi_\u001b[0m\u001b[0;34m,\u001b[0m \u001b[0mcmap\u001b[0m\u001b[0;34m=\u001b[0m\u001b[0mcmap_\u001b[0m\u001b[0;34m)\u001b[0m\u001b[0;34m\u001b[0m\u001b[0m\n\u001b[0m\u001b[1;32m      9\u001b[0m \u001b[0;34m\u001b[0m\u001b[0m\n\u001b[1;32m     10\u001b[0m \u001b[0;34m\u001b[0m\u001b[0m\n",
      "\u001b[0;32m/usr/lib/python3.6/site-packages/matplotlib/image.py\u001b[0m in \u001b[0;36mimsave\u001b[0;34m(fname, arr, vmin, vmax, cmap, format, origin, dpi)\u001b[0m\n\u001b[1;32m   1358\u001b[0m         \u001b[0mimage\u001b[0m\u001b[0;34m.\u001b[0m\u001b[0mset_data\u001b[0m\u001b[0;34m(\u001b[0m\u001b[0marr\u001b[0m\u001b[0;34m)\u001b[0m\u001b[0;34m\u001b[0m\u001b[0m\n\u001b[1;32m   1359\u001b[0m         \u001b[0mimage\u001b[0m\u001b[0;34m.\u001b[0m\u001b[0mset_clim\u001b[0m\u001b[0;34m(\u001b[0m\u001b[0mvmin\u001b[0m\u001b[0;34m,\u001b[0m \u001b[0mvmax\u001b[0m\u001b[0;34m)\u001b[0m\u001b[0;34m\u001b[0m\u001b[0m\n\u001b[0;32m-> 1360\u001b[0;31m         \u001b[0mimage\u001b[0m\u001b[0;34m.\u001b[0m\u001b[0mwrite_png\u001b[0m\u001b[0;34m(\u001b[0m\u001b[0mfname\u001b[0m\u001b[0;34m)\u001b[0m\u001b[0;34m\u001b[0m\u001b[0m\n\u001b[0m\u001b[1;32m   1361\u001b[0m     \u001b[0;32melse\u001b[0m\u001b[0;34m:\u001b[0m\u001b[0;34m\u001b[0m\u001b[0m\n\u001b[1;32m   1362\u001b[0m         \u001b[0mfig\u001b[0m \u001b[0;34m=\u001b[0m \u001b[0mFigure\u001b[0m\u001b[0;34m(\u001b[0m\u001b[0mdpi\u001b[0m\u001b[0;34m=\u001b[0m\u001b[0mdpi\u001b[0m\u001b[0;34m,\u001b[0m \u001b[0mframeon\u001b[0m\u001b[0;34m=\u001b[0m\u001b[0;32mFalse\u001b[0m\u001b[0;34m)\u001b[0m\u001b[0;34m\u001b[0m\u001b[0m\n",
      "\u001b[0;32m/usr/lib/python3.6/site-packages/matplotlib/image.py\u001b[0m in \u001b[0;36mwrite_png\u001b[0;34m(self, fname)\u001b[0m\n\u001b[1;32m    586\u001b[0m         \u001b[0;34m\"\"\"Write the image to png file with fname\"\"\"\u001b[0m\u001b[0;34m\u001b[0m\u001b[0m\n\u001b[1;32m    587\u001b[0m         im = self.to_rgba(self._A[::-1] if self.origin == 'lower' else self._A,\n\u001b[0;32m--> 588\u001b[0;31m                           bytes=True, norm=True)\n\u001b[0m\u001b[1;32m    589\u001b[0m         \u001b[0m_png\u001b[0m\u001b[0;34m.\u001b[0m\u001b[0mwrite_png\u001b[0m\u001b[0;34m(\u001b[0m\u001b[0mim\u001b[0m\u001b[0;34m,\u001b[0m \u001b[0mfname\u001b[0m\u001b[0;34m)\u001b[0m\u001b[0;34m\u001b[0m\u001b[0m\n\u001b[1;32m    590\u001b[0m \u001b[0;34m\u001b[0m\u001b[0m\n",
      "\u001b[0;32m/usr/lib/python3.6/site-packages/matplotlib/cm.py\u001b[0m in \u001b[0;36mto_rgba\u001b[0;34m(self, x, alpha, bytes, norm)\u001b[0m\n\u001b[1;32m    273\u001b[0m         \u001b[0mx\u001b[0m \u001b[0;34m=\u001b[0m \u001b[0mma\u001b[0m\u001b[0;34m.\u001b[0m\u001b[0masarray\u001b[0m\u001b[0;34m(\u001b[0m\u001b[0mx\u001b[0m\u001b[0;34m)\u001b[0m\u001b[0;34m\u001b[0m\u001b[0m\n\u001b[1;32m    274\u001b[0m         \u001b[0;32mif\u001b[0m \u001b[0mnorm\u001b[0m\u001b[0;34m:\u001b[0m\u001b[0;34m\u001b[0m\u001b[0m\n\u001b[0;32m--> 275\u001b[0;31m             \u001b[0mx\u001b[0m \u001b[0;34m=\u001b[0m \u001b[0mself\u001b[0m\u001b[0;34m.\u001b[0m\u001b[0mnorm\u001b[0m\u001b[0;34m(\u001b[0m\u001b[0mx\u001b[0m\u001b[0;34m)\u001b[0m\u001b[0;34m\u001b[0m\u001b[0m\n\u001b[0m\u001b[1;32m    276\u001b[0m         \u001b[0mrgba\u001b[0m \u001b[0;34m=\u001b[0m \u001b[0mself\u001b[0m\u001b[0;34m.\u001b[0m\u001b[0mcmap\u001b[0m\u001b[0;34m(\u001b[0m\u001b[0mx\u001b[0m\u001b[0;34m,\u001b[0m \u001b[0malpha\u001b[0m\u001b[0;34m=\u001b[0m\u001b[0malpha\u001b[0m\u001b[0;34m,\u001b[0m \u001b[0mbytes\u001b[0m\u001b[0;34m=\u001b[0m\u001b[0mbytes\u001b[0m\u001b[0;34m)\u001b[0m\u001b[0;34m\u001b[0m\u001b[0m\n\u001b[1;32m    277\u001b[0m         \u001b[0;32mreturn\u001b[0m \u001b[0mrgba\u001b[0m\u001b[0;34m\u001b[0m\u001b[0m\n",
      "\u001b[0;32m/usr/lib/python3.6/site-packages/matplotlib/colors.py\u001b[0m in \u001b[0;36m__call__\u001b[0;34m(self, value, clip)\u001b[0m\n\u001b[1;32m    917\u001b[0m             \u001b[0mclip\u001b[0m \u001b[0;34m=\u001b[0m \u001b[0mself\u001b[0m\u001b[0;34m.\u001b[0m\u001b[0mclip\u001b[0m\u001b[0;34m\u001b[0m\u001b[0m\n\u001b[1;32m    918\u001b[0m \u001b[0;34m\u001b[0m\u001b[0m\n\u001b[0;32m--> 919\u001b[0;31m         \u001b[0mresult\u001b[0m\u001b[0;34m,\u001b[0m \u001b[0mis_scalar\u001b[0m \u001b[0;34m=\u001b[0m \u001b[0mself\u001b[0m\u001b[0;34m.\u001b[0m\u001b[0mprocess_value\u001b[0m\u001b[0;34m(\u001b[0m\u001b[0mvalue\u001b[0m\u001b[0;34m)\u001b[0m\u001b[0;34m\u001b[0m\u001b[0m\n\u001b[0m\u001b[1;32m    920\u001b[0m \u001b[0;34m\u001b[0m\u001b[0m\n\u001b[1;32m    921\u001b[0m         \u001b[0mself\u001b[0m\u001b[0;34m.\u001b[0m\u001b[0mautoscale_None\u001b[0m\u001b[0;34m(\u001b[0m\u001b[0mresult\u001b[0m\u001b[0;34m)\u001b[0m\u001b[0;34m\u001b[0m\u001b[0m\n",
      "\u001b[0;32m/usr/lib/python3.6/site-packages/matplotlib/colors.py\u001b[0m in \u001b[0;36mprocess_value\u001b[0;34m(value)\u001b[0m\n\u001b[1;32m    903\u001b[0m         \u001b[0mmask\u001b[0m \u001b[0;34m=\u001b[0m \u001b[0mnp\u001b[0m\u001b[0;34m.\u001b[0m\u001b[0mma\u001b[0m\u001b[0;34m.\u001b[0m\u001b[0mgetmask\u001b[0m\u001b[0;34m(\u001b[0m\u001b[0mvalue\u001b[0m\u001b[0;34m)\u001b[0m\u001b[0;34m\u001b[0m\u001b[0m\n\u001b[1;32m    904\u001b[0m         \u001b[0mdata\u001b[0m \u001b[0;34m=\u001b[0m \u001b[0mnp\u001b[0m\u001b[0;34m.\u001b[0m\u001b[0masarray\u001b[0m\u001b[0;34m(\u001b[0m\u001b[0mnp\u001b[0m\u001b[0;34m.\u001b[0m\u001b[0mma\u001b[0m\u001b[0;34m.\u001b[0m\u001b[0mgetdata\u001b[0m\u001b[0;34m(\u001b[0m\u001b[0mvalue\u001b[0m\u001b[0;34m)\u001b[0m\u001b[0;34m)\u001b[0m\u001b[0;34m\u001b[0m\u001b[0m\n\u001b[0;32m--> 905\u001b[0;31m         \u001b[0mresult\u001b[0m \u001b[0;34m=\u001b[0m \u001b[0mnp\u001b[0m\u001b[0;34m.\u001b[0m\u001b[0mma\u001b[0m\u001b[0;34m.\u001b[0m\u001b[0marray\u001b[0m\u001b[0;34m(\u001b[0m\u001b[0mdata\u001b[0m\u001b[0;34m,\u001b[0m \u001b[0mmask\u001b[0m\u001b[0;34m=\u001b[0m\u001b[0mmask\u001b[0m\u001b[0;34m,\u001b[0m \u001b[0mdtype\u001b[0m\u001b[0;34m=\u001b[0m\u001b[0mdtype\u001b[0m\u001b[0;34m,\u001b[0m \u001b[0mcopy\u001b[0m\u001b[0;34m=\u001b[0m\u001b[0;32mTrue\u001b[0m\u001b[0;34m)\u001b[0m\u001b[0;34m\u001b[0m\u001b[0m\n\u001b[0m\u001b[1;32m    906\u001b[0m         \u001b[0;32mreturn\u001b[0m \u001b[0mresult\u001b[0m\u001b[0;34m,\u001b[0m \u001b[0mis_scalar\u001b[0m\u001b[0;34m\u001b[0m\u001b[0m\n\u001b[1;32m    907\u001b[0m \u001b[0;34m\u001b[0m\u001b[0m\n",
      "\u001b[0;32m/usr/lib/python3.6/site-packages/numpy/ma/core.py\u001b[0m in \u001b[0;36marray\u001b[0;34m(data, dtype, copy, order, mask, fill_value, keep_mask, hard_mask, shrink, subok, ndmin)\u001b[0m\n\u001b[1;32m   6356\u001b[0m                        \u001b[0msubok\u001b[0m\u001b[0;34m=\u001b[0m\u001b[0msubok\u001b[0m\u001b[0;34m,\u001b[0m \u001b[0mkeep_mask\u001b[0m\u001b[0;34m=\u001b[0m\u001b[0mkeep_mask\u001b[0m\u001b[0;34m,\u001b[0m\u001b[0;34m\u001b[0m\u001b[0m\n\u001b[1;32m   6357\u001b[0m                        \u001b[0mhard_mask\u001b[0m\u001b[0;34m=\u001b[0m\u001b[0mhard_mask\u001b[0m\u001b[0;34m,\u001b[0m \u001b[0mfill_value\u001b[0m\u001b[0;34m=\u001b[0m\u001b[0mfill_value\u001b[0m\u001b[0;34m,\u001b[0m\u001b[0;34m\u001b[0m\u001b[0m\n\u001b[0;32m-> 6358\u001b[0;31m                        ndmin=ndmin, shrink=shrink, order=order)\n\u001b[0m\u001b[1;32m   6359\u001b[0m \u001b[0marray\u001b[0m\u001b[0;34m.\u001b[0m\u001b[0m__doc__\u001b[0m \u001b[0;34m=\u001b[0m \u001b[0mmasked_array\u001b[0m\u001b[0;34m.\u001b[0m\u001b[0m__doc__\u001b[0m\u001b[0;34m\u001b[0m\u001b[0m\n\u001b[1;32m   6360\u001b[0m \u001b[0;34m\u001b[0m\u001b[0m\n",
      "\u001b[0;32m/usr/lib/python3.6/site-packages/numpy/ma/core.py\u001b[0m in \u001b[0;36m__new__\u001b[0;34m(cls, data, mask, dtype, copy, subok, ndmin, fill_value, keep_mask, hard_mask, shrink, order, **options)\u001b[0m\n\u001b[1;32m   2782\u001b[0m         \u001b[0;31m# Process data.\u001b[0m\u001b[0;34m\u001b[0m\u001b[0;34m\u001b[0m\u001b[0m\n\u001b[1;32m   2783\u001b[0m         _data = np.array(data, dtype=dtype, copy=copy,\n\u001b[0;32m-> 2784\u001b[0;31m                          order=order, subok=True, ndmin=ndmin)\n\u001b[0m\u001b[1;32m   2785\u001b[0m         \u001b[0m_baseclass\u001b[0m \u001b[0;34m=\u001b[0m \u001b[0mgetattr\u001b[0m\u001b[0;34m(\u001b[0m\u001b[0mdata\u001b[0m\u001b[0;34m,\u001b[0m \u001b[0;34m'_baseclass'\u001b[0m\u001b[0;34m,\u001b[0m \u001b[0mtype\u001b[0m\u001b[0;34m(\u001b[0m\u001b[0m_data\u001b[0m\u001b[0;34m)\u001b[0m\u001b[0;34m)\u001b[0m\u001b[0;34m\u001b[0m\u001b[0m\n\u001b[1;32m   2786\u001b[0m         \u001b[0;31m# Check that we're not erasing the mask.\u001b[0m\u001b[0;34m\u001b[0m\u001b[0;34m\u001b[0m\u001b[0m\n",
      "\u001b[0;31mKeyboardInterrupt\u001b[0m: "
     ]
    }
   ],
   "source": [
    "for i in range(100):\n",
    "    nest = StartingNest(startingPositionMatrix_=np.matrix([[0,0,0,0,0,0,0,0,0,2000,0,0,0,0,0,0,0,0,0]]), nodeArea_=7, iterations=50, areaX_=201, areaY_=101, T0=.6, Td=70)\n",
    "    nest.run(.5)\n",
    "    nest.saveForGif(filename=\"kolmogorov_logo_1804_\"+str(\"%03d\" % i)+\".png\", img=nest.area)\n",
    "    print(\"Ready:\", str(\"%03d\" % i))"
   ]
  },
  {
   "cell_type": "code",
   "execution_count": 97,
   "metadata": {
    "scrolled": false
   },
   "outputs": [
    {
     "data": {
      "image/png": "[encoded data removed]",
      "text/plain": [
       "<matplotlib.figure.Figure at 0x7f9377dc7cf8>"
      ]
     },
     "metadata": {},
     "output_type": "display_data"
    },
    {
     "data": {
      "image/png": "[encoded data removed]",
      "text/plain": [
       "<matplotlib.figure.Figure at 0x7f9377980e10>"
      ]
     },
     "metadata": {},
     "output_type": "display_data"
    },
    {
     "data": {
      "image/png": "[encoded data removed]",
      "text/plain": [
       "<matplotlib.figure.Figure at 0x7f9377bd93c8>"
      ]
     },
     "metadata": {},
     "output_type": "display_data"
    }
   ],
   "source": [
    "plt.figure(figsize = (20,20))\n",
    "plt.imshow(1-testNest.area, cmap=plt.cm.viridis, interpolation='nearest', aspect='equal')\n",
    "plt.show()\n",
    "plt.figure(figsize = (20,20))\n",
    "plt.imshow(1-testNest.area, cmap=plt.cm.inferno, interpolation='nearest', aspect='equal')\n",
    "plt.show()\n",
    "plt.figure(figsize = (20,20))\n",
    "plt.imshow(1-testNest.area, cmap=plt.cm.binary, interpolation='nearest', aspect='equal')\n",
    "plt.show()"
   ]
  },
  {
   "cell_type": "code",
   "execution_count": 88,
   "metadata": {
    "scrolled": false
   },
   "outputs": [],
   "source": [
    "savePattern(filename_=\"test_gist_stern.png\", imgmatrix_=testNest.area, dpi_=300, cmap_=plt.cm.gist_stern)"
   ]
  }
 ],
 "metadata": {
  "kernelspec": {
   "display_name": "Python 3",
   "language": "python",
   "name": "python3"
  },
  "language_info": {
   "codemirror_mode": {
    "name": "ipython",
    "version": 3
   },
   "file_extension": ".py",
   "mimetype": "text/x-python",
   "name": "python",
   "nbconvert_exporter": "python",
   "pygments_lexer": "ipython3",
   "version": "3.6.4"
  }
 },
 "nbformat": 4,
 "nbformat_minor": 2
}
